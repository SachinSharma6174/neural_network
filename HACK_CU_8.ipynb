{
  "nbformat": 4,
  "nbformat_minor": 0,
  "metadata": {
    "colab": {
      "name": "HACK_CU_8.ipynb",
      "provenance": [],
      "collapsed_sections": [],
      "mount_file_id": "16N1oJPMvHvZgLcVgqHyh3SC_XkvnAzgh",
      "authorship_tag": "ABX9TyML9kDXk1HDv4k4Rr2hmaUv",
      "include_colab_link": true
    },
    "kernelspec": {
      "name": "python3",
      "display_name": "Python 3"
    },
    "language_info": {
      "name": "python"
    },
    "accelerator": "GPU"
  },
  "cells": [
    {
      "cell_type": "markdown",
      "metadata": {
        "id": "view-in-github",
        "colab_type": "text"
      },
      "source": [
        "<a href=\"https://colab.research.google.com/github/SachinSharma6174/neural_network/blob/main/HACK_CU_8.ipynb\" target=\"_parent\"><img src=\"https://colab.research.google.com/assets/colab-badge.svg\" alt=\"Open In Colab\"/></a>"
      ]
    },
    {
      "cell_type": "code",
      "execution_count": null,
      "metadata": {
        "colab": {
          "base_uri": "https://localhost:8080/"
        },
        "id": "meW3xK5jdBEm",
        "outputId": "cc25d41a-2cf6-45e9-811d-ebbc1d1947b2"
      },
      "outputs": [
        {
          "output_type": "stream",
          "name": "stdout",
          "text": [
            "Found 980 images belonging to 2 classes.\n",
            "Found 239 images belonging to 2 classes.\n"
          ]
        }
      ],
      "source": [
        "import tensorflow as tf\n",
        "import keras_preprocessing\n",
        "from keras_preprocessing import image\n",
        "from keras_preprocessing.image import ImageDataGenerator\n",
        "import shutil\n",
        "TRAINING_DIR = \"/content/drive/MyDrive/Training\"\n",
        "\n",
        "training_datagen = ImageDataGenerator(rescale = 1./255,\n",
        "                                      horizontal_flip=True,\n",
        "\t\t\t\t\t\t\t\t\t\t\t\t\t\t\t\t\t\t\trotation_range=30,\n",
        "\t\t\t\t\t\t\t\t\t\t\t\t\t\t\t\t\t\t\theight_shift_range=0.2,\n",
        "                                      fill_mode='nearest')\n",
        "\n",
        "VALIDATION_DIR = \"/content/drive/MyDrive/Validation\"\n",
        "validation_datagen = ImageDataGenerator(rescale = 1./255)\n",
        "\n",
        "train_generator = training_datagen.flow_from_directory(\n",
        "\tTRAINING_DIR,\n",
        "\ttarget_size=(224,224),\n",
        "\tclass_mode='categorical',\n",
        "  batch_size = 64\n",
        ")\n",
        "\n",
        "validation_generator = validation_datagen.flow_from_directory(\n",
        "\tVALIDATION_DIR,\n",
        "\ttarget_size=(224,224),\n",
        "\tclass_mode='categorical',\n",
        "  batch_size= 16\n",
        ")"
      ]
    },
    {
      "cell_type": "code",
      "source": [
        "from tensorflow.keras.optimizers import RMSprop,Adam\n",
        "model = tf.keras.models.Sequential([\n",
        "          tf.keras.layers.Conv2D(96, (11,11), strides=(4,4), activation='relu', input_shape=(224, 224, 3)),\n",
        "          tf.keras.layers.MaxPooling2D(pool_size = (3,3), strides=(2,2)),\n",
        "          tf.keras.layers.Conv2D(256, (5,5), activation='relu'),\n",
        "          tf.keras.layers.MaxPooling2D(pool_size = (3,3), strides=(2,2)),\n",
        "          tf.keras.layers.Conv2D(384, (5,5), activation='relu'),\n",
        "          tf.keras.layers.MaxPooling2D(pool_size = (3,3), strides=(2,2)),\n",
        "          tf.keras.layers.Flatten(),\n",
        "          tf.keras.layers.Dropout(0.2),\n",
        "          tf.keras.layers.Dense(2048, activation='relu'),\n",
        "          tf.keras.layers.Dropout(0.25),\n",
        "          tf.keras.layers.Dense(1024, activation='relu'),\n",
        "          tf.keras.layers.Dropout(0.2),\n",
        "          tf.keras.layers.Dense(2, activation='softmax')\n",
        "])\n",
        "model.compile(loss='categorical_crossentropy',\n",
        "              optimizer=Adam(lr=0.0001),\n",
        "              metrics=['acc'])\n",
        "model.summary()"
      ],
      "metadata": {
        "colab": {
          "base_uri": "https://localhost:8080/"
        },
        "id": "0lCIjme_ocON",
        "outputId": "e5606084-0554-4a80-e93c-5447c94b1f07"
      },
      "execution_count": null,
      "outputs": [
        {
          "output_type": "stream",
          "name": "stdout",
          "text": [
            "Model: \"sequential\"\n",
            "_________________________________________________________________\n",
            " Layer (type)                Output Shape              Param #   \n",
            "=================================================================\n",
            " conv2d (Conv2D)             (None, 54, 54, 96)        34944     \n",
            "                                                                 \n",
            " max_pooling2d (MaxPooling2D  (None, 26, 26, 96)       0         \n",
            " )                                                               \n",
            "                                                                 \n",
            " conv2d_1 (Conv2D)           (None, 22, 22, 256)       614656    \n",
            "                                                                 \n",
            " max_pooling2d_1 (MaxPooling  (None, 10, 10, 256)      0         \n",
            " 2D)                                                             \n",
            "                                                                 \n",
            " conv2d_2 (Conv2D)           (None, 6, 6, 384)         2457984   \n",
            "                                                                 \n",
            " max_pooling2d_2 (MaxPooling  (None, 2, 2, 384)        0         \n",
            " 2D)                                                             \n",
            "                                                                 \n",
            " flatten (Flatten)           (None, 1536)              0         \n",
            "                                                                 \n",
            " dropout (Dropout)           (None, 1536)              0         \n",
            "                                                                 \n",
            " dense (Dense)               (None, 2048)              3147776   \n",
            "                                                                 \n",
            " dropout_1 (Dropout)         (None, 2048)              0         \n",
            "                                                                 \n",
            " dense_1 (Dense)             (None, 1024)              2098176   \n",
            "                                                                 \n",
            " dropout_2 (Dropout)         (None, 1024)              0         \n",
            "                                                                 \n",
            " dense_2 (Dense)             (None, 2)                 2050      \n",
            "                                                                 \n",
            "=================================================================\n",
            "Total params: 8,355,586\n",
            "Trainable params: 8,355,586\n",
            "Non-trainable params: 0\n",
            "_________________________________________________________________\n"
          ]
        },
        {
          "output_type": "stream",
          "name": "stderr",
          "text": [
            "/usr/local/lib/python3.7/dist-packages/keras/optimizer_v2/adam.py:105: UserWarning: The `lr` argument is deprecated, use `learning_rate` instead.\n",
            "  super(Adam, self).__init__(name, **kwargs)\n"
          ]
        }
      ]
    },
    {
      "cell_type": "code",
      "source": [
        "# Code to Save trained Model\n",
        "\n",
        "!pip install pyyaml h5py  # Required to save models in HDF5 format"
      ],
      "metadata": {
        "colab": {
          "base_uri": "https://localhost:8080/"
        },
        "id": "Q4fMU2e7pr3E",
        "outputId": "becc4370-3ee6-4f29-e0da-e1d130d04f4f"
      },
      "execution_count": null,
      "outputs": [
        {
          "output_type": "stream",
          "name": "stdout",
          "text": [
            "Requirement already satisfied: pyyaml in /usr/local/lib/python3.7/dist-packages (3.13)\n",
            "Requirement already satisfied: h5py in /usr/local/lib/python3.7/dist-packages (3.1.0)\n",
            "Requirement already satisfied: numpy>=1.14.5 in /usr/local/lib/python3.7/dist-packages (from h5py) (1.21.5)\n",
            "Requirement already satisfied: cached-property in /usr/local/lib/python3.7/dist-packages (from h5py) (1.5.2)\n"
          ]
        }
      ]
    },
    {
      "cell_type": "code",
      "source": [
        "import os\n",
        "\n",
        "import tensorflow as tf\n",
        "from tensorflow import keras\n",
        "\n",
        "print(tf.version.VERSION)"
      ],
      "metadata": {
        "colab": {
          "base_uri": "https://localhost:8080/"
        },
        "id": "Gl7nHIrCp0FC",
        "outputId": "83a02745-c531-42fc-9fe0-96ee2f881663"
      },
      "execution_count": null,
      "outputs": [
        {
          "output_type": "stream",
          "name": "stdout",
          "text": [
            "2.8.0\n"
          ]
        }
      ]
    },
    {
      "cell_type": "code",
      "source": [
        "checkpoint_path = \"/content/drive/MyDrive/training_1/cp.ckpt\"\n",
        "checkpoint_dir = os.path.dirname(checkpoint_path)\n",
        "\n",
        "# Create a callback that saves the model's weights\n",
        "cp_callback = tf.keras.callbacks.ModelCheckpoint(filepath=checkpoint_path,\n",
        "                                                 save_weights_only=True,\n",
        "                                                 verbose=1)\n"
      ],
      "metadata": {
        "id": "RcUNZnNwsNwE"
      },
      "execution_count": null,
      "outputs": []
    },
    {
      "cell_type": "code",
      "source": [
        "os.listdir(checkpoint_dir)"
      ],
      "metadata": {
        "colab": {
          "base_uri": "https://localhost:8080/"
        },
        "id": "IA_rCdePuEkw",
        "outputId": "17293dad-8881-4d8c-8013-834bd7e41489"
      },
      "execution_count": null,
      "outputs": [
        {
          "output_type": "execute_result",
          "data": {
            "text/plain": [
              "['cp.ckpt.data-00000-of-00001', 'cp.ckpt.index', 'checkpoint']"
            ]
          },
          "metadata": {},
          "execution_count": 8
        }
      ]
    },
    {
      "cell_type": "code",
      "source": [
        "history = model.fit(\n",
        "    train_generator,\n",
        "    steps_per_epoch = 15,\n",
        "    epochs = 50,\n",
        "    validation_data = validation_generator,\n",
        "    validation_steps = 15,\n",
        "    callbacks=[cp_callback]\n",
        ")"
      ],
      "metadata": {
        "colab": {
          "base_uri": "https://localhost:8080/"
        },
        "id": "jptwC1RYpL9c",
        "outputId": "b0c56da8-c7fe-438c-ece4-3b0577522d17"
      },
      "execution_count": null,
      "outputs": [
        {
          "output_type": "stream",
          "name": "stdout",
          "text": [
            "Epoch 1/50\n",
            "15/15 [==============================] - ETA: 0s - loss: 0.3533 - acc: 0.8570\n",
            "Epoch 1: saving model to /content/drive/MyDrive/training_1/cp.ckpt\n",
            "15/15 [==============================] - 39s 3s/step - loss: 0.3533 - acc: 0.8570 - val_loss: 0.2801 - val_acc: 0.9121\n",
            "Epoch 2/50\n",
            "15/15 [==============================] - ETA: 0s - loss: 0.2655 - acc: 0.8897\n",
            "Epoch 2: saving model to /content/drive/MyDrive/training_1/cp.ckpt\n",
            "15/15 [==============================] - 40s 3s/step - loss: 0.2655 - acc: 0.8897 - val_loss: 0.2101 - val_acc: 0.9372\n",
            "Epoch 3/50\n",
            "15/15 [==============================] - ETA: 0s - loss: 0.2169 - acc: 0.9192\n",
            "Epoch 3: saving model to /content/drive/MyDrive/training_1/cp.ckpt\n",
            "15/15 [==============================] - 38s 3s/step - loss: 0.2169 - acc: 0.9192 - val_loss: 0.2077 - val_acc: 0.9331\n",
            "Epoch 4/50\n",
            "15/15 [==============================] - ETA: 0s - loss: 0.2167 - acc: 0.9181\n",
            "Epoch 4: saving model to /content/drive/MyDrive/training_1/cp.ckpt\n",
            "15/15 [==============================] - 39s 3s/step - loss: 0.2167 - acc: 0.9181 - val_loss: 0.2327 - val_acc: 0.9205\n",
            "Epoch 5/50\n",
            "15/15 [==============================] - ETA: 0s - loss: 0.2367 - acc: 0.9148\n",
            "Epoch 5: saving model to /content/drive/MyDrive/training_1/cp.ckpt\n",
            "15/15 [==============================] - 39s 3s/step - loss: 0.2367 - acc: 0.9148 - val_loss: 0.2106 - val_acc: 0.9331\n",
            "Epoch 6/50\n",
            "15/15 [==============================] - ETA: 0s - loss: 0.2202 - acc: 0.9148\n",
            "Epoch 6: saving model to /content/drive/MyDrive/training_1/cp.ckpt\n",
            "15/15 [==============================] - 38s 3s/step - loss: 0.2202 - acc: 0.9148 - val_loss: 0.1944 - val_acc: 0.9372\n",
            "Epoch 7/50\n",
            "15/15 [==============================] - ETA: 0s - loss: 0.1941 - acc: 0.9269\n",
            "Epoch 7: saving model to /content/drive/MyDrive/training_1/cp.ckpt\n",
            "15/15 [==============================] - 39s 3s/step - loss: 0.1941 - acc: 0.9269 - val_loss: 0.2609 - val_acc: 0.9247\n",
            "Epoch 8/50\n",
            "15/15 [==============================] - ETA: 0s - loss: 0.2040 - acc: 0.9301\n",
            "Epoch 8: saving model to /content/drive/MyDrive/training_1/cp.ckpt\n",
            "15/15 [==============================] - 38s 3s/step - loss: 0.2040 - acc: 0.9301 - val_loss: 0.1887 - val_acc: 0.9331\n",
            "Epoch 9/50\n",
            "15/15 [==============================] - ETA: 0s - loss: 0.1841 - acc: 0.9271\n",
            "Epoch 9: saving model to /content/drive/MyDrive/training_1/cp.ckpt\n",
            "15/15 [==============================] - 39s 3s/step - loss: 0.1841 - acc: 0.9271 - val_loss: 0.1914 - val_acc: 0.9414\n",
            "Epoch 10/50\n",
            "15/15 [==============================] - ETA: 0s - loss: 0.1797 - acc: 0.9312\n",
            "Epoch 10: saving model to /content/drive/MyDrive/training_1/cp.ckpt\n",
            "15/15 [==============================] - 40s 3s/step - loss: 0.1797 - acc: 0.9312 - val_loss: 0.1882 - val_acc: 0.9414\n",
            "Epoch 11/50\n",
            "15/15 [==============================] - ETA: 0s - loss: 0.1612 - acc: 0.9443\n",
            "Epoch 11: saving model to /content/drive/MyDrive/training_1/cp.ckpt\n",
            "15/15 [==============================] - 38s 3s/step - loss: 0.1612 - acc: 0.9443 - val_loss: 0.1919 - val_acc: 0.9414\n",
            "Epoch 12/50\n",
            "15/15 [==============================] - ETA: 0s - loss: 0.1814 - acc: 0.9301\n",
            "Epoch 12: saving model to /content/drive/MyDrive/training_1/cp.ckpt\n",
            "15/15 [==============================] - 39s 3s/step - loss: 0.1814 - acc: 0.9301 - val_loss: 0.2493 - val_acc: 0.9121\n",
            "Epoch 13/50\n",
            "15/15 [==============================] - ETA: 0s - loss: 0.2039 - acc: 0.9225\n",
            "Epoch 13: saving model to /content/drive/MyDrive/training_1/cp.ckpt\n",
            "15/15 [==============================] - 38s 3s/step - loss: 0.2039 - acc: 0.9225 - val_loss: 0.2210 - val_acc: 0.9331\n",
            "Epoch 14/50\n",
            "15/15 [==============================] - ETA: 0s - loss: 0.1861 - acc: 0.9236\n",
            "Epoch 14: saving model to /content/drive/MyDrive/training_1/cp.ckpt\n",
            "15/15 [==============================] - 38s 3s/step - loss: 0.1861 - acc: 0.9236 - val_loss: 0.1606 - val_acc: 0.9414\n",
            "Epoch 15/50\n",
            "15/15 [==============================] - ETA: 0s - loss: 0.1653 - acc: 0.9498\n",
            "Epoch 15: saving model to /content/drive/MyDrive/training_1/cp.ckpt\n",
            "15/15 [==============================] - 39s 3s/step - loss: 0.1653 - acc: 0.9498 - val_loss: 0.1574 - val_acc: 0.9414\n",
            "Epoch 16/50\n",
            "15/15 [==============================] - ETA: 0s - loss: 0.1525 - acc: 0.9498\n",
            "Epoch 16: saving model to /content/drive/MyDrive/training_1/cp.ckpt\n",
            "15/15 [==============================] - 39s 3s/step - loss: 0.1525 - acc: 0.9498 - val_loss: 0.1938 - val_acc: 0.9372\n",
            "Epoch 17/50\n",
            "15/15 [==============================] - ETA: 0s - loss: 0.1853 - acc: 0.9454\n",
            "Epoch 17: saving model to /content/drive/MyDrive/training_1/cp.ckpt\n",
            "15/15 [==============================] - 39s 3s/step - loss: 0.1853 - acc: 0.9454 - val_loss: 0.1602 - val_acc: 0.9456\n",
            "Epoch 18/50\n",
            "15/15 [==============================] - ETA: 0s - loss: 0.1603 - acc: 0.9465\n",
            "Epoch 18: saving model to /content/drive/MyDrive/training_1/cp.ckpt\n",
            "15/15 [==============================] - 39s 3s/step - loss: 0.1603 - acc: 0.9465 - val_loss: 0.1886 - val_acc: 0.9372\n",
            "Epoch 19/50\n",
            "15/15 [==============================] - ETA: 0s - loss: 0.1484 - acc: 0.9498\n",
            "Epoch 19: saving model to /content/drive/MyDrive/training_1/cp.ckpt\n",
            "15/15 [==============================] - 40s 3s/step - loss: 0.1484 - acc: 0.9498 - val_loss: 0.1568 - val_acc: 0.9372\n",
            "Epoch 20/50\n",
            "15/15 [==============================] - ETA: 0s - loss: 0.1427 - acc: 0.9520\n",
            "Epoch 20: saving model to /content/drive/MyDrive/training_1/cp.ckpt\n",
            "15/15 [==============================] - 39s 3s/step - loss: 0.1427 - acc: 0.9520 - val_loss: 0.1747 - val_acc: 0.9456\n",
            "Epoch 21/50\n",
            "15/15 [==============================] - ETA: 0s - loss: 0.1210 - acc: 0.9585\n",
            "Epoch 21: saving model to /content/drive/MyDrive/training_1/cp.ckpt\n",
            "15/15 [==============================] - 39s 3s/step - loss: 0.1210 - acc: 0.9585 - val_loss: 0.1792 - val_acc: 0.9456\n",
            "Epoch 22/50\n",
            "15/15 [==============================] - ETA: 0s - loss: 0.1461 - acc: 0.9498\n",
            "Epoch 22: saving model to /content/drive/MyDrive/training_1/cp.ckpt\n",
            "15/15 [==============================] - 39s 3s/step - loss: 0.1461 - acc: 0.9498 - val_loss: 0.1531 - val_acc: 0.9372\n",
            "Epoch 23/50\n",
            "15/15 [==============================] - ETA: 0s - loss: 0.1356 - acc: 0.9531\n",
            "Epoch 23: saving model to /content/drive/MyDrive/training_1/cp.ckpt\n",
            "15/15 [==============================] - 38s 3s/step - loss: 0.1356 - acc: 0.9531 - val_loss: 0.1500 - val_acc: 0.9456\n",
            "Epoch 24/50\n",
            "15/15 [==============================] - ETA: 0s - loss: 0.1264 - acc: 0.9596\n",
            "Epoch 24: saving model to /content/drive/MyDrive/training_1/cp.ckpt\n",
            "15/15 [==============================] - 38s 3s/step - loss: 0.1264 - acc: 0.9596 - val_loss: 0.1961 - val_acc: 0.9414\n",
            "Epoch 25/50\n",
            "15/15 [==============================] - ETA: 0s - loss: 0.1273 - acc: 0.9563\n",
            "Epoch 25: saving model to /content/drive/MyDrive/training_1/cp.ckpt\n",
            "15/15 [==============================] - 38s 3s/step - loss: 0.1273 - acc: 0.9563 - val_loss: 0.1614 - val_acc: 0.9498\n",
            "Epoch 26/50\n",
            "15/15 [==============================] - ETA: 0s - loss: 0.1370 - acc: 0.9574\n",
            "Epoch 26: saving model to /content/drive/MyDrive/training_1/cp.ckpt\n",
            "15/15 [==============================] - 38s 3s/step - loss: 0.1370 - acc: 0.9574 - val_loss: 0.1876 - val_acc: 0.9372\n",
            "Epoch 27/50\n",
            "15/15 [==============================] - ETA: 0s - loss: 0.1223 - acc: 0.9563\n",
            "Epoch 27: saving model to /content/drive/MyDrive/training_1/cp.ckpt\n",
            "15/15 [==============================] - 40s 3s/step - loss: 0.1223 - acc: 0.9563 - val_loss: 0.1457 - val_acc: 0.9498\n",
            "Epoch 28/50\n",
            "15/15 [==============================] - ETA: 0s - loss: 0.1155 - acc: 0.9629\n",
            "Epoch 28: saving model to /content/drive/MyDrive/training_1/cp.ckpt\n",
            "15/15 [==============================] - 39s 3s/step - loss: 0.1155 - acc: 0.9629 - val_loss: 0.1527 - val_acc: 0.9331\n",
            "Epoch 29/50\n",
            "15/15 [==============================] - ETA: 0s - loss: 0.1201 - acc: 0.9520\n",
            "Epoch 29: saving model to /content/drive/MyDrive/training_1/cp.ckpt\n",
            "15/15 [==============================] - 38s 3s/step - loss: 0.1201 - acc: 0.9520 - val_loss: 0.1467 - val_acc: 0.9414\n",
            "Epoch 30/50\n",
            "15/15 [==============================] - ETA: 0s - loss: 0.1071 - acc: 0.9662\n",
            "Epoch 30: saving model to /content/drive/MyDrive/training_1/cp.ckpt\n",
            "15/15 [==============================] - 38s 3s/step - loss: 0.1071 - acc: 0.9662 - val_loss: 0.1551 - val_acc: 0.9456\n",
            "Epoch 31/50\n",
            "15/15 [==============================] - ETA: 0s - loss: 0.1133 - acc: 0.9618\n",
            "Epoch 31: saving model to /content/drive/MyDrive/training_1/cp.ckpt\n",
            "15/15 [==============================] - 39s 3s/step - loss: 0.1133 - acc: 0.9618 - val_loss: 0.1447 - val_acc: 0.9372\n",
            "Epoch 32/50\n",
            "15/15 [==============================] - ETA: 0s - loss: 0.1096 - acc: 0.9541\n",
            "Epoch 32: saving model to /content/drive/MyDrive/training_1/cp.ckpt\n",
            "15/15 [==============================] - 39s 3s/step - loss: 0.1096 - acc: 0.9541 - val_loss: 0.1600 - val_acc: 0.9456\n",
            "Epoch 33/50\n",
            "15/15 [==============================] - ETA: 0s - loss: 0.1208 - acc: 0.9574\n",
            "Epoch 33: saving model to /content/drive/MyDrive/training_1/cp.ckpt\n",
            "15/15 [==============================] - 39s 3s/step - loss: 0.1208 - acc: 0.9574 - val_loss: 0.1841 - val_acc: 0.9414\n",
            "Epoch 34/50\n",
            "15/15 [==============================] - ETA: 0s - loss: 0.1283 - acc: 0.9454\n",
            "Epoch 34: saving model to /content/drive/MyDrive/training_1/cp.ckpt\n",
            "15/15 [==============================] - 38s 3s/step - loss: 0.1283 - acc: 0.9454 - val_loss: 0.1683 - val_acc: 0.9456\n",
            "Epoch 35/50\n",
            "15/15 [==============================] - ETA: 0s - loss: 0.0995 - acc: 0.9683\n",
            "Epoch 35: saving model to /content/drive/MyDrive/training_1/cp.ckpt\n",
            "15/15 [==============================] - 38s 3s/step - loss: 0.0995 - acc: 0.9683 - val_loss: 0.1667 - val_acc: 0.9498\n",
            "Epoch 36/50\n",
            "15/15 [==============================] - ETA: 0s - loss: 0.0943 - acc: 0.9618\n",
            "Epoch 36: saving model to /content/drive/MyDrive/training_1/cp.ckpt\n",
            "15/15 [==============================] - 39s 3s/step - loss: 0.0943 - acc: 0.9618 - val_loss: 0.1523 - val_acc: 0.9414\n",
            "Epoch 37/50\n",
            "15/15 [==============================] - ETA: 0s - loss: 0.1023 - acc: 0.9651\n",
            "Epoch 37: saving model to /content/drive/MyDrive/training_1/cp.ckpt\n",
            "15/15 [==============================] - 39s 3s/step - loss: 0.1023 - acc: 0.9651 - val_loss: 0.1375 - val_acc: 0.9540\n",
            "Epoch 38/50\n",
            "15/15 [==============================] - ETA: 0s - loss: 0.1042 - acc: 0.9618\n",
            "Epoch 38: saving model to /content/drive/MyDrive/training_1/cp.ckpt\n",
            "15/15 [==============================] - 39s 3s/step - loss: 0.1042 - acc: 0.9618 - val_loss: 0.1618 - val_acc: 0.9456\n",
            "Epoch 39/50\n",
            "15/15 [==============================] - ETA: 0s - loss: 0.0944 - acc: 0.9585\n",
            "Epoch 39: saving model to /content/drive/MyDrive/training_1/cp.ckpt\n",
            "15/15 [==============================] - 39s 3s/step - loss: 0.0944 - acc: 0.9585 - val_loss: 0.1452 - val_acc: 0.9498\n",
            "Epoch 40/50\n",
            "15/15 [==============================] - ETA: 0s - loss: 0.1082 - acc: 0.9574\n",
            "Epoch 40: saving model to /content/drive/MyDrive/training_1/cp.ckpt\n",
            "15/15 [==============================] - 39s 3s/step - loss: 0.1082 - acc: 0.9574 - val_loss: 0.2338 - val_acc: 0.9289\n",
            "Epoch 41/50\n",
            "15/15 [==============================] - ETA: 0s - loss: 0.1032 - acc: 0.9596\n",
            "Epoch 41: saving model to /content/drive/MyDrive/training_1/cp.ckpt\n",
            "15/15 [==============================] - 39s 3s/step - loss: 0.1032 - acc: 0.9596 - val_loss: 0.1564 - val_acc: 0.9456\n",
            "Epoch 42/50\n",
            "15/15 [==============================] - ETA: 0s - loss: 0.0908 - acc: 0.9694\n",
            "Epoch 42: saving model to /content/drive/MyDrive/training_1/cp.ckpt\n",
            "15/15 [==============================] - 39s 3s/step - loss: 0.0908 - acc: 0.9694 - val_loss: 0.1479 - val_acc: 0.9540\n",
            "Epoch 43/50\n",
            "15/15 [==============================] - ETA: 0s - loss: 0.0881 - acc: 0.9672\n",
            "Epoch 43: saving model to /content/drive/MyDrive/training_1/cp.ckpt\n",
            "15/15 [==============================] - 39s 3s/step - loss: 0.0881 - acc: 0.9672 - val_loss: 0.1530 - val_acc: 0.9498\n",
            "Epoch 44/50\n",
            "15/15 [==============================] - ETA: 0s - loss: 0.1154 - acc: 0.9563\n",
            "Epoch 44: saving model to /content/drive/MyDrive/training_1/cp.ckpt\n",
            "15/15 [==============================] - 38s 3s/step - loss: 0.1154 - acc: 0.9563 - val_loss: 0.1984 - val_acc: 0.9331\n",
            "Epoch 45/50\n",
            "15/15 [==============================] - ETA: 0s - loss: 0.0985 - acc: 0.9651\n",
            "Epoch 45: saving model to /content/drive/MyDrive/training_1/cp.ckpt\n",
            "15/15 [==============================] - 41s 3s/step - loss: 0.0985 - acc: 0.9651 - val_loss: 0.1506 - val_acc: 0.9456\n",
            "Epoch 46/50\n",
            "15/15 [==============================] - ETA: 0s - loss: 0.0756 - acc: 0.9749\n",
            "Epoch 46: saving model to /content/drive/MyDrive/training_1/cp.ckpt\n",
            "15/15 [==============================] - 39s 3s/step - loss: 0.0756 - acc: 0.9749 - val_loss: 0.2198 - val_acc: 0.9372\n",
            "Epoch 47/50\n",
            "15/15 [==============================] - ETA: 0s - loss: 0.1220 - acc: 0.9552\n",
            "Epoch 47: saving model to /content/drive/MyDrive/training_1/cp.ckpt\n",
            "15/15 [==============================] - 39s 3s/step - loss: 0.1220 - acc: 0.9552 - val_loss: 0.1481 - val_acc: 0.9498\n",
            "Epoch 48/50\n",
            "15/15 [==============================] - ETA: 0s - loss: 0.0865 - acc: 0.9688\n",
            "Epoch 48: saving model to /content/drive/MyDrive/training_1/cp.ckpt\n",
            "15/15 [==============================] - 39s 3s/step - loss: 0.0865 - acc: 0.9688 - val_loss: 0.1651 - val_acc: 0.9623\n",
            "Epoch 49/50\n",
            "15/15 [==============================] - ETA: 0s - loss: 0.0827 - acc: 0.9771\n",
            "Epoch 49: saving model to /content/drive/MyDrive/training_1/cp.ckpt\n",
            "15/15 [==============================] - 38s 3s/step - loss: 0.0827 - acc: 0.9771 - val_loss: 0.1371 - val_acc: 0.9582\n",
            "Epoch 50/50\n",
            "15/15 [==============================] - ETA: 0s - loss: 0.0783 - acc: 0.9738\n",
            "Epoch 50: saving model to /content/drive/MyDrive/training_1/cp.ckpt\n",
            "15/15 [==============================] - 39s 3s/step - loss: 0.0783 - acc: 0.9738 - val_loss: 0.1367 - val_acc: 0.9582\n"
          ]
        }
      ]
    },
    {
      "cell_type": "code",
      "source": [
        "path = '/content/fire1.jpeg'\n",
        "img = image.load_img(path, target_size=(224, 224))\n",
        "x = image.img_to_array(img)\n",
        "x = np.expand_dims(x, axis=0) /255\n",
        "classes = model.predict(x)\n",
        "print(classes)\n",
        "print(np.argmax(classes[0])==0, max(classes[0]))"
      ],
      "metadata": {
        "colab": {
          "base_uri": "https://localhost:8080/"
        },
        "id": "JsRq0tE7Bgjh",
        "outputId": "50af76dd-e2dd-4629-bd1c-0017d385c154"
      },
      "execution_count": 37,
      "outputs": [
        {
          "output_type": "stream",
          "name": "stdout",
          "text": [
            "[[9.993711e-01 6.289441e-04]]\n",
            "True 0.9993711\n"
          ]
        }
      ]
    },
    {
      "cell_type": "code",
      "source": [
        "# model.load_weights(checkpoint_path)\n",
        "# loss, acc = model.evaluate(test_images, test_labels, verbose=2)\n",
        "# print(\"Restored model, accuracy: {:5.2f}%\".format(100 * acc))"
      ],
      "metadata": {
        "id": "xosWtMZBuOfV"
      },
      "execution_count": null,
      "outputs": []
    },
    {
      "cell_type": "code",
      "source": [
        "# !mkdir -p /content/saved_model\n",
        "model.save('saved_model/model-v2') "
      ],
      "metadata": {
        "colab": {
          "base_uri": "https://localhost:8080/"
        },
        "id": "JCHWiVUc1HlF",
        "outputId": "f47c6bb1-ddae-4a4a-96ff-b895348427b4"
      },
      "execution_count": null,
      "outputs": [
        {
          "output_type": "stream",
          "name": "stdout",
          "text": [
            "INFO:tensorflow:Assets written to: saved_model/model-v2/assets\n"
          ]
        }
      ]
    },
    {
      "cell_type": "code",
      "source": [
        "pulled_model = tf.keras.models.load_model('/content/saved_model/model-v2')\n",
        "\n",
        "# Check its architecture\n",
        "pulled_model.summary()\n"
      ],
      "metadata": {
        "id": "h_KoatV71J3y"
      },
      "execution_count": null,
      "outputs": []
    },
    {
      "cell_type": "code",
      "source": [
        "#predicting any random image\n",
        "import numpy as np\n",
        "from google.colab import files\n",
        "from keras.preprocessing import image\n",
        "\n",
        "uploaded = files.upload()\n",
        "\n",
        "for fn in uploaded.keys():\n",
        "  path = '/content/' + fn\n",
        "  img = image.load_img(path, target_size=(224, 224))\n",
        "  x = image.img_to_array(img)\n",
        "  x = np.expand_dims(x, axis=0) /255\n",
        "  classes = pulled_model.predict(x)\n",
        "  print(np.argmax(classes[0])==0, max(classes[0]))"
      ],
      "metadata": {
        "colab": {
          "resources": {
            "http://localhost:8080/nbextensions/google.colab/files.js": {
              "data": "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",
              "ok": true,
              "headers": [
                [
                  "content-type",
                  "application/javascript"
                ]
              ],
              "status": 200,
              "status_text": ""
            }
          },
          "base_uri": "https://localhost:8080/",
          "height": 91
        },
        "id": "yT4GO6L5xSrQ",
        "outputId": "2421e593-6889-4249-d359-05002500ef50"
      },
      "execution_count": 39,
      "outputs": [
        {
          "output_type": "display_data",
          "data": {
            "text/html": [
              "\n",
              "     <input type=\"file\" id=\"files-ff48a524-8c6b-4c15-b5a7-8f760d271e5a\" name=\"files[]\" multiple disabled\n",
              "        style=\"border:none\" />\n",
              "     <output id=\"result-ff48a524-8c6b-4c15-b5a7-8f760d271e5a\">\n",
              "      Upload widget is only available when the cell has been executed in the\n",
              "      current browser session. Please rerun this cell to enable.\n",
              "      </output>\n",
              "      <script src=\"/nbextensions/google.colab/files.js\"></script> "
            ],
            "text/plain": [
              "<IPython.core.display.HTML object>"
            ]
          },
          "metadata": {}
        },
        {
          "output_type": "stream",
          "name": "stdout",
          "text": [
            "Saving testimonial-2.png to testimonial-2.png\n",
            "True 0.752499\n"
          ]
        }
      ]
    },
    {
      "cell_type": "code",
      "source": [
        "%matplotlib inline\n",
        "import matplotlib.pyplot as plt\n",
        "acc = history.history['acc']\n",
        "val_acc = history.history['val_acc']\n",
        "loss = history.history['loss']\n",
        "val_loss = history.history['val_loss']\n",
        "\n",
        "epochs = range(len(acc))\n",
        "\n",
        "plt.plot(epochs, acc, 'g', label='Training accuracy')\n",
        "plt.plot(epochs, val_acc, 'b', label='Validation accuracy')\n",
        "plt.title('Training and validation accuracy')\n",
        "plt.legend(loc=0)\n",
        "plt.figure()\n",
        "plt.show()\n",
        "\n",
        "plt.plot(epochs, loss, 'r', label='Training loss')\n",
        "plt.plot(epochs, val_loss, 'orange', label='Validation loss')\n",
        "plt.title('Training and validation loss')\n",
        "\n",
        "plt.legend(loc=0)\n",
        "plt.figure()\n",
        "plt.show()"
      ],
      "metadata": {
        "colab": {
          "base_uri": "https://localhost:8080/",
          "height": 580
        },
        "id": "gVz0qc1eplqw",
        "outputId": "e074d9fe-3802-4d49-8482-475aa8db6bce"
      },
      "execution_count": null,
      "outputs": [
        {
          "output_type": "display_data",
          "data": {
            "image/png": "[encoded data removed]",
            "text/plain": [
              "<Figure size 432x288 with 1 Axes>"
            ]
          },
          "metadata": {
            "needs_background": "light"
          }
        },
        {
          "output_type": "display_data",
          "data": {
            "text/plain": [
              "<Figure size 432x288 with 0 Axes>"
            ]
          },
          "metadata": {}
        },
        {
          "output_type": "display_data",
          "data": {
            "image/png": "[encoded data removed]",
            "text/plain": [
              "<Figure size 432x288 with 1 Axes>"
            ]
          },
          "metadata": {
            "needs_background": "light"
          }
        },
        {
          "output_type": "display_data",
          "data": {
            "text/plain": [
              "<Figure size 432x288 with 0 Axes>"
            ]
          },
          "metadata": {}
        }
      ]
    },
    {
      "cell_type": "code",
      "source": [
        "# !zip -r /content/saved_model/.zip /content/drive/MyDrive/Colab\\ Notebooks/\n",
        "# !cp -r /content/saved_model /content/drive/MyDrive/trained_model"
      ],
      "metadata": {
        "id": "zRi3Ke-I9_mD"
      },
      "execution_count": null,
      "outputs": []
    },
    {
      "cell_type": "code",
      "source": [
        "pulled_model_trained_mode = tf.keras.models.load_model('/content/drive/MyDrive/trained_model/model-v2')\n",
        "\n",
        "# Check its architecture\n",
        "pulled_model_trained_mode.summary()"
      ],
      "metadata": {
        "id": "8c9n79jl_8cR"
      },
      "execution_count": null,
      "outputs": []
    },
    {
      "cell_type": "code",
      "source": [
        "path = '/content/fire1.jpeg'\n",
        "img = image.load_img(path, target_size=(224, 224))\n",
        "x = image.img_to_array(img)\n",
        "x = np.expand_dims(x, axis=0) /255\n",
        "classes = pulled_model_trained_mode.predict(x)\n",
        "print(classes)\n",
        "print(np.argmax(classes[0])==0, max(classes[0]))"
      ],
      "metadata": {
        "colab": {
          "base_uri": "https://localhost:8080/"
        },
        "id": "bG7Dpg1SAKjg",
        "outputId": "25e960f9-34b3-40c0-ad41-5746855c3233"
      },
      "execution_count": null,
      "outputs": [
        {
          "output_type": "stream",
          "name": "stdout",
          "text": [
            "[[9.993711e-01 6.289441e-04]]\n",
            "True 0.9993711\n"
          ]
        }
      ]
    },
    {
      "cell_type": "code",
      "source": [
        "!pip install flask-ngrok"
      ],
      "metadata": {
        "id": "YoeZZeuZAsiK"
      },
      "execution_count": null,
      "outputs": []
    },
    {
      "cell_type": "code",
      "source": [
        "!mkdir -p /drive/ngrok-ssh\n",
        "%cd /drive/ngrok-ssh\n",
        "!wget https://bin.equinox.io/c/4VmDzA7iaHb/ngrok-stable-linux-amd64.zip -O ngrok-stable-linux-amd64.zip\n",
        "!unzip -u ngrok-stable-linux-amd64.zip\n",
        "!cp /drive/ngrok-ssh/ngrok /ngrok\n",
        "!chmod +x /ngrok"
      ],
      "metadata": {
        "colab": {
          "base_uri": "https://localhost:8080/"
        },
        "id": "1xDTdPSPF2O1",
        "outputId": "d8668dcb-de84-4455-9986-4773dc618392"
      },
      "execution_count": 50,
      "outputs": [
        {
          "output_type": "stream",
          "name": "stdout",
          "text": [
            "/drive/ngrok-ssh\n",
            "--2022-03-05 21:58:33--  https://bin.equinox.io/c/4VmDzA7iaHb/ngrok-stable-linux-amd64.zip\n",
            "Resolving bin.equinox.io (bin.equinox.io)... 54.237.133.81, 54.161.241.46, 52.202.168.65, ...\n",
            "Connecting to bin.equinox.io (bin.equinox.io)|54.237.133.81|:443... connected.\n",
            "HTTP request sent, awaiting response... 200 OK\n",
            "Length: 13832437 (13M) [application/octet-stream]\n",
            "Saving to: ‘ngrok-stable-linux-amd64.zip’\n",
            "\n",
            "ngrok-stable-linux- 100%[===================>]  13.19M  58.7MB/s    in 0.2s    \n",
            "\n",
            "2022-03-05 21:58:34 (58.7 MB/s) - ‘ngrok-stable-linux-amd64.zip’ saved [13832437/13832437]\n",
            "\n",
            "Archive:  ngrok-stable-linux-amd64.zip\n",
            "  inflating: ngrok                   \n"
          ]
        }
      ]
    },
    {
      "cell_type": "code",
      "source": [
        "!pip install -U flask-cors"
      ],
      "metadata": {
        "id": "yfeHvFk-E2sL"
      },
      "execution_count": null,
      "outputs": []
    },
    {
      "cell_type": "code",
      "source": [
        "!/ngrok authtoken 25LRYelUVdA8lUkbQP4PtgZjoMk_3Af8qnYETARPmnUd5doMU"
      ],
      "metadata": {
        "colab": {
          "base_uri": "https://localhost:8080/"
        },
        "id": "nGVZo0c3F_FI",
        "outputId": "5bf71c79-ebfc-4754-ee8c-7c2c6a2c317c"
      },
      "execution_count": 53,
      "outputs": [
        {
          "output_type": "stream",
          "name": "stdout",
          "text": [
            "Authtoken saved to configuration file: /root/.ngrok2/ngrok.yml\n"
          ]
        }
      ]
    },
    {
      "cell_type": "code",
      "source": [
        "# !/tmp/ngrok/ngrok authtoken 25LRYelUVdA8lUkbQP4PtgZjoMk_3Af8qnYETARPmnUd5doMU"
      ],
      "metadata": {
        "id": "l6ltrDn3Eoxx"
      },
      "execution_count": null,
      "outputs": []
    },
    {
      "cell_type": "code",
      "source": [
        "!pip3 install twilio"
      ],
      "metadata": {
        "colab": {
          "base_uri": "https://localhost:8080/"
        },
        "id": "KkYcxdoVeXax",
        "outputId": "5e50298f-6eeb-4339-f087-772b6fbefaea"
      },
      "execution_count": 72,
      "outputs": [
        {
          "output_type": "stream",
          "name": "stdout",
          "text": [
            "Collecting twilio\n",
            "  Downloading twilio-7.7.0-py2.py3-none-any.whl (1.4 MB)\n",
            "\u001b[K     |████████████████████████████████| 1.4 MB 5.0 MB/s \n",
            "\u001b[?25hRequirement already satisfied: pytz in /usr/local/lib/python3.7/dist-packages (from twilio) (2018.9)\n",
            "Collecting PyJWT<3.0.0,>=2.0.0\n",
            "  Downloading PyJWT-2.3.0-py3-none-any.whl (16 kB)\n",
            "Requirement already satisfied: requests>=2.0.0 in /usr/local/lib/python3.7/dist-packages (from twilio) (2.23.0)\n",
            "Requirement already satisfied: certifi>=2017.4.17 in /usr/local/lib/python3.7/dist-packages (from requests>=2.0.0->twilio) (2021.10.8)\n",
            "Requirement already satisfied: chardet<4,>=3.0.2 in /usr/local/lib/python3.7/dist-packages (from requests>=2.0.0->twilio) (3.0.4)\n",
            "Requirement already satisfied: idna<3,>=2.5 in /usr/local/lib/python3.7/dist-packages (from requests>=2.0.0->twilio) (2.10)\n",
            "Requirement already satisfied: urllib3!=1.25.0,!=1.25.1,<1.26,>=1.21.1 in /usr/local/lib/python3.7/dist-packages (from requests>=2.0.0->twilio) (1.24.3)\n",
            "Installing collected packages: PyJWT, twilio\n",
            "Successfully installed PyJWT-2.3.0 twilio-7.7.0\n"
          ]
        }
      ]
    },
    {
      "cell_type": "code",
      "source": [
        "from PIL import Image\n",
        "import io\n",
        "from flask import Flask, request,jsonify\n",
        "from flask_ngrok import run_with_ngrok\n",
        "from flask_cors import CORS, cross_origin\n",
        "from twilio.rest import Client\n",
        "import traceback\n",
        "app = Flask(__name__)\n",
        "cors = CORS(app)\n",
        "app.config['CORS_HEADERS'] = 'Content-Type'   \n",
        "run_with_ngrok(app)\n",
        "# import jsonpickle\n",
        "  \n",
        "\n",
        "def sendSms():\n",
        "  message = \"Fire Alert!!!!\"\n",
        "  contact=\"+17207611606\"\n",
        "  account_sid =  \"AC95a1592926d32067e3919a8c4512277f\"\n",
        "  auth_token =  \"aff3791aaa7b806d78e449dec421cefd\"\n",
        "  client = Client(account_sid, auth_token)\n",
        "  message = client.messages \\\n",
        "                .create(\n",
        "                     body=message,\n",
        "                     messaging_service_sid='MG88dac29d1519469ff8d02cdd92f27e60',\n",
        "                     to=contact\n",
        "                 )\n",
        "  print(message.sid)\n",
        "\n",
        "@app.route(\"/predict\", methods=['POST'])\n",
        "@cross_origin()        \n",
        "def predict():\n",
        "  try:\n",
        "    print(\"You are HERE\")\n",
        "    # data = request.get_data()\n",
        "    # print(request.data)\n",
        "    # print(request.files)\n",
        "    img = request.files['image']\n",
        "    \n",
        "    img = Image.open(img.stream)\n",
        "    img = img.resize((224, 224), Image.ANTIALIAS)\n",
        "    x = image.img_to_array(img)\n",
        "    x = np.expand_dims(x, axis=0) /255\n",
        "    classes = pulled_model_trained_mode.predict(x)\n",
        "    print(np.argmax(classes[0])==0, max(classes[0]))\n",
        "    status = (np.argmax(classes[0])==0)\n",
        "    confidence_level = float(max(classes[0]))*100\n",
        "    msg = \"No Fire\"\n",
        "    if(confidence_level > 80 and str(status) == \"True\"):\n",
        "      message = \"Fire Alert!!!!\"\n",
        "      sendSms()\n",
        "      msg = \"Alert Send to Sachin: +1 ******1606\"\n",
        "\n",
        "    response = {\n",
        "        'status': str(status),\n",
        "        'confidence_level' : str(confidence_level),\n",
        "        'message': msg\n",
        "    }\n",
        "    return jsonify(response )\n",
        "  except Exception:\n",
        "      print(traceback.format_exc())\n",
        "      response = {'error':'ok'}\n",
        "      return response\n",
        "    \n",
        "app.run()"
      ],
      "metadata": {
        "colab": {
          "base_uri": "https://localhost:8080/"
        },
        "id": "TxQN72GyGOIS",
        "outputId": "faef3fa2-8587-4085-ae03-662407cdfa27"
      },
      "execution_count": null,
      "outputs": [
        {
          "output_type": "stream",
          "name": "stdout",
          "text": [
            " * Serving Flask app \"__main__\" (lazy loading)\n",
            " * Environment: production\n",
            "\u001b[31m   WARNING: This is a development server. Do not use it in a production deployment.\u001b[0m\n",
            "\u001b[2m   Use a production WSGI server instead.\u001b[0m\n",
            " * Debug mode: off\n"
          ]
        },
        {
          "output_type": "stream",
          "name": "stderr",
          "text": [
            " * Running on http://127.0.0.1:5000/ (Press CTRL+C to quit)\n"
          ]
        },
        {
          "output_type": "stream",
          "name": "stdout",
          "text": [
            " * Running on http://9be1-35-231-110-7.ngrok.io\n",
            " * Traffic stats available on http://127.0.0.1:4040\n",
            "You are HERE\n",
            "True 0.99974483\n"
          ]
        },
        {
          "output_type": "stream",
          "name": "stderr",
          "text": [
            "127.0.0.1 - - [06/Mar/2022 00:06:56] \"\u001b[37mPOST /predict HTTP/1.1\u001b[0m\" 200 -\n"
          ]
        },
        {
          "output_type": "stream",
          "name": "stdout",
          "text": [
            "SMa839f6a9b6ad4e8c846991c6618516c9\n"
          ]
        },
        {
          "output_type": "stream",
          "name": "stderr",
          "text": [
            "127.0.0.1 - - [06/Mar/2022 00:07:07] \"\u001b[31m\u001b[1mGET /predict HTTP/1.1\u001b[0m\" 405 -\n",
            "127.0.0.1 - - [06/Mar/2022 00:07:51] \"\u001b[37mOPTIONS /predict HTTP/1.1\u001b[0m\" 200 -\n",
            "127.0.0.1 - - [06/Mar/2022 00:07:51] \"\u001b[37mPOST /predict HTTP/1.1\u001b[0m\" 200 -\n"
          ]
        },
        {
          "output_type": "stream",
          "name": "stdout",
          "text": [
            "You are HERE\n",
            "Traceback (most recent call last):\n",
            "  File \"<ipython-input-89-7abdb030bfcc>\", line 36, in predict\n",
            "    img = request.files['image']\n",
            "  File \"/usr/local/lib/python3.7/dist-packages/werkzeug/datastructures.py\", line 442, in __getitem__\n",
            "    raise exceptions.BadRequestKeyError(key)\n",
            "werkzeug.exceptions.BadRequestKeyError: 400 Bad Request: The browser (or proxy) sent a request that this server could not understand.\n",
            "\n"
          ]
        }
      ]
    }
  ]
}