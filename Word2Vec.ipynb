{
  "nbformat": 4,
  "nbformat_minor": 0,
  "metadata": {
    "colab": {
      "name": "lab3_part2.ipynb",
      "provenance": [],
      "authorship_tag": "ABX9TyN7W2mVUQrqYhbZYNwpVfUO",
      "include_colab_link": true
    },
    "kernelspec": {
      "name": "python3",
      "display_name": "Python 3"
    },
    "language_info": {
      "name": "python"
    }
  },
  "cells": [
    {
      "cell_type": "markdown",
      "metadata": {
        "id": "view-in-github",
        "colab_type": "text"
      },
      "source": [
        "<a href=\"https://colab.research.google.com/github/SachinSharma6174/neural_network/blob/main/Word2Vec.ipynb\" target=\"_parent\"><img src=\"https://colab.research.google.com/assets/colab-badge.svg\" alt=\"Open In Colab\"/></a>"
      ]
    },
    {
      "cell_type": "markdown",
      "source": [
        "## Impact of Pretrained Word Embedding"
      ],
      "metadata": {
        "id": "Zt0-1t8cFlLX"
      }
    },
    {
      "cell_type": "code",
      "source": [
        ""
      ],
      "metadata": {
        "id": "erFXKrCuDAnN"
      },
      "execution_count": null,
      "outputs": []
    },
    {
      "cell_type": "code",
      "source": [
        "!wget http://nlp.stanford.edu/data/glove.6B.zip\n",
        "!unzip -q glove.6B.zip"
      ],
      "metadata": {
        "colab": {
          "base_uri": "https://localhost:8080/",
          "height": 0
        },
        "id": "f4ZoNEMnDBNW",
        "outputId": "14c95f14-0a7f-4aea-8037-ec4edbe89f92"
      },
      "execution_count": 2,
      "outputs": [
        {
          "output_type": "stream",
          "name": "stdout",
          "text": [
            "--2022-03-07 15:49:10--  http://nlp.stanford.edu/data/glove.6B.zip\n",
            "Resolving nlp.stanford.edu (nlp.stanford.edu)... 171.64.67.140\n",
            "Connecting to nlp.stanford.edu (nlp.stanford.edu)|171.64.67.140|:80... connected.\n",
            "HTTP request sent, awaiting response... 302 Found\n",
            "Location: https://nlp.stanford.edu/data/glove.6B.zip [following]\n",
            "--2022-03-07 15:49:10--  https://nlp.stanford.edu/data/glove.6B.zip\n",
            "Connecting to nlp.stanford.edu (nlp.stanford.edu)|171.64.67.140|:443... connected.\n",
            "HTTP request sent, awaiting response... 301 Moved Permanently\n",
            "Location: http://downloads.cs.stanford.edu/nlp/data/glove.6B.zip [following]\n",
            "--2022-03-07 15:49:11--  http://downloads.cs.stanford.edu/nlp/data/glove.6B.zip\n",
            "Resolving downloads.cs.stanford.edu (downloads.cs.stanford.edu)... 171.64.64.22\n",
            "Connecting to downloads.cs.stanford.edu (downloads.cs.stanford.edu)|171.64.64.22|:80... connected.\n",
            "HTTP request sent, awaiting response... 200 OK\n",
            "Length: 862182613 (822M) [application/zip]\n",
            "Saving to: ‘glove.6B.zip’\n",
            "\n",
            "glove.6B.zip        100%[===================>] 822.24M  5.11MB/s    in 2m 40s  \n",
            "\n",
            "2022-03-07 15:51:51 (5.13 MB/s) - ‘glove.6B.zip’ saved [862182613/862182613]\n",
            "\n"
          ]
        }
      ]
    },
    {
      "cell_type": "code",
      "source": [
        "\n",
        "from keras.datasets import imdb\n",
        "from sklearn.model_selection import train_test_split\n",
        "\n",
        "vocab_volume = 4000\n",
        "\n",
        "(X_train, y_train),  (X_test, y_test) = imdb.load_data(num_words = vocab_volume)\n",
        "#  70-30 split\n",
        "train_size = 0.7\n",
        "\n",
        "x = np.concatenate((X_train, X_test))\n",
        "y = np.concatenate((y_train, y_test))\n",
        "\n",
        "x_train, x_test, y_train, y_test  = train_test_split(x,y,train_size = train_size, random_state = 5999)\n",
        "\n",
        "print(' training samples, {}'.format(len(x_train) ) )\n",
        "\n",
        "print(' test samples {} '.format(len(x_test)))\n",
        "print(' y train samples {} '.format(len(y_train)))\n",
        "print(' y test samples {} '.format(len(y_test)))\n",
        "\n",
        "\n",
        "# Retrieve the training sequences.\n",
        "# (x_train, _), _ = keras.datasets.imdb.load_data()\n",
        "# Retrieve the word index file mapping words to indices\n"
      ],
      "metadata": {
        "id": "gLveqCyQIHxn"
      },
      "execution_count": null,
      "outputs": []
    },
    {
      "cell_type": "code",
      "source": [
        "import keras\n",
        "\n",
        "word_index = keras.datasets.imdb.get_word_index()\n",
        "# Reverse the word index to obtain a dict mapping indices to words\n",
        "inverted_word_index = dict((i, word) for (word, i) in word_index.items())\n",
        "# Decode the first sequence in the dataset\n",
        "decoded_sequence = \" \".join(inverted_word_index[i] for i in x_train[0])"
      ],
      "metadata": {
        "colab": {
          "base_uri": "https://localhost:8080/",
          "height": 0
        },
        "id": "CHDtV0IQJKla",
        "outputId": "f50d6c68-f0b3-457e-b721-d7fa4a544797"
      },
      "execution_count": 7,
      "outputs": [
        {
          "output_type": "stream",
          "name": "stdout",
          "text": [
            "Downloading data from https://storage.googleapis.com/tensorflow/tf-keras-datasets/imdb_word_index.json\n",
            "1646592/1641221 [==============================] - 0s 0us/step\n",
            "1654784/1641221 [==============================] - 0s 0us/step\n"
          ]
        }
      ]
    },
    {
      "cell_type": "code",
      "execution_count": 9,
      "metadata": {
        "colab": {
          "base_uri": "https://localhost:8080/",
          "height": 0
        },
        "id": "lNxClD4-C9ui",
        "outputId": "c7117d08-8aeb-4b88-9be7-f6aee97f8d23"
      },
      "outputs": [
        {
          "output_type": "stream",
          "name": "stdout",
          "text": [
            "Found 400000 word vectors.\n",
            "Converted 60150 words (28434 misses)\n"
          ]
        }
      ],
      "source": [
        "import os\n",
        "import numpy as np\n",
        "\n",
        "from keras.layers import Embedding\n",
        "from keras.initializers import Constant\n",
        "from keras.layers.recurrent_v2 import GRU\n",
        "from keras.layers.recurrent import SimpleRNN\n",
        "\n",
        "from keras import Sequential\n",
        "from keras.layers import Embedding, LSTM, Dense, Dropout\n",
        "\n",
        "\n",
        "path_to_glove_file = \"glove.6B.100d.txt\"\n",
        "\n",
        "embeddings_index = {}\n",
        "with open(path_to_glove_file) as f:\n",
        "    for line in f:\n",
        "        word, coefs = line.split(maxsplit=1)\n",
        "        coefs = np.fromstring(coefs, \"f\", sep=\" \")\n",
        "        embeddings_index[word] = coefs\n",
        "\n",
        "print(\"Found %s word vectors.\" % len(embeddings_index))\n",
        "\n",
        "num_tokens = len(word_index)\n",
        "embedding_dim = 100\n",
        "hits = 0\n",
        "misses = 0\n",
        "\n",
        "# Generating embedding matrix for our word list\n",
        "embedding_matrix = np.zeros((num_tokens, embedding_dim))\n",
        "for word, i in word_index.items():\n",
        "    embedding_vector = embeddings_index.get(word)\n",
        "    if embedding_vector is not None:\n",
        "        embedding_matrix[i] = embedding_vector\n",
        "        hits += 1\n",
        "    else:\n",
        "        misses += 1\n",
        "\n",
        "\n",
        "model_simple_rnn_Glove = Sequential()\n",
        "model_simple_rnn_Glove.add(Embedding(num_tokens,embedding_dim,embeddings_initializer=Constant(embedding_matrix), trainable=False))\n",
        "model_simple_rnn_Glove.add(SimpleRNN(embedding_dim))\n",
        "model_simple_rnn_Glove.add(Dropout(0.2))\n",
        "model_simple_rnn_Glove.add(Dense(1, activation='sigmoid'))\n",
        "model_simple_rnn_Glove.compile(loss='binary_crossentropy', \n",
        "                               optimizer='adam', \n",
        "                               metrics = [\"accuracy\"])"
      ]
    },
    {
      "cell_type": "code",
      "source": [
        "import keras.preprocessing \n",
        "from keras.preprocessing import sequence\n",
        "max_review_words = 650\n",
        "X_test_pad = sequence.pad_sequences(x_test, maxlen = max_review_words)\n",
        "X_train_pad = sequence.pad_sequences(x_train, maxlen = max_review_words)"
      ],
      "metadata": {
        "id": "rt-i-R4sJjPj"
      },
      "execution_count": 11,
      "outputs": []
    },
    {
      "cell_type": "code",
      "source": [
        "batch_size = 64\n",
        "number_of_epochs = 4\n",
        "\n",
        "X_valid, y_valid = X_train_pad[:64], y_train[:64]\n",
        "X_train2, y_train2 = X_train_pad[64:5000], y_train[64:5000]\n",
        "\n",
        "\n",
        "model_simple_rnn_Glove.fit(X_train2, y_train2, validation_data=(X_valid, y_valid), epochs=number_of_epochs, batch_size=batch_size )"
      ],
      "metadata": {
        "colab": {
          "base_uri": "https://localhost:8080/",
          "height": 0
        },
        "id": "MTDmUjvYKeJ7",
        "outputId": "3ecb60a7-e5c3-475f-fb37-8973c1d6c4f9"
      },
      "execution_count": 12,
      "outputs": [
        {
          "output_type": "stream",
          "name": "stdout",
          "text": [
            "Epoch 1/4\n",
            "78/78 [==============================] - 23s 273ms/step - loss: 0.7306 - accuracy: 0.5051 - val_loss: 0.6978 - val_accuracy: 0.5312\n",
            "Epoch 2/4\n",
            "78/78 [==============================] - 25s 324ms/step - loss: 0.6896 - accuracy: 0.5634 - val_loss: 0.6536 - val_accuracy: 0.6562\n",
            "Epoch 3/4\n",
            "78/78 [==============================] - 23s 291ms/step - loss: 0.6737 - accuracy: 0.5790 - val_loss: 0.6798 - val_accuracy: 0.6250\n",
            "Epoch 4/4\n",
            "78/78 [==============================] - 27s 341ms/step - loss: 0.6576 - accuracy: 0.6086 - val_loss: 0.6670 - val_accuracy: 0.6406\n"
          ]
        },
        {
          "output_type": "execute_result",
          "data": {
            "text/plain": [
              "<keras.callbacks.History at 0x7f17f5126410>"
            ]
          },
          "metadata": {},
          "execution_count": 12
        }
      ]
    },
    {
      "cell_type": "code",
      "source": [
        "scores = model_simple_rnn_Glove.evaluate(X_test_pad, y_test, verbose=0)\n",
        "print('Test accuracy:', scores)"
      ],
      "metadata": {
        "colab": {
          "base_uri": "https://localhost:8080/",
          "height": 0
        },
        "id": "rJdWyYmEKuCl",
        "outputId": "f66aa3ca-94e6-449e-d296-e6579ac0dc31"
      },
      "execution_count": 13,
      "outputs": [
        {
          "output_type": "stream",
          "name": "stdout",
          "text": [
            "Test accuracy: [0.6962568759918213, 0.5507333278656006]\n"
          ]
        }
      ]
    },
    {
      "cell_type": "code",
      "source": [
        "from sklearn import metrics\n",
        "\n",
        "y_predicted = model_simple_rnn_Glove.predict(X_test_pad)\n",
        "print(metrics.classification_report(y_test,np.round(y_predicted)))"
      ],
      "metadata": {
        "colab": {
          "base_uri": "https://localhost:8080/",
          "height": 0
        },
        "id": "iS_k1iV9Kv-y",
        "outputId": "34c82735-1d26-427f-e010-63e0136005e5"
      },
      "execution_count": 14,
      "outputs": [
        {
          "output_type": "stream",
          "name": "stdout",
          "text": [
            "              precision    recall  f1-score   support\n",
            "\n",
            "           0       0.55      0.61      0.58      7627\n",
            "           1       0.55      0.49      0.52      7373\n",
            "\n",
            "    accuracy                           0.55     15000\n",
            "   macro avg       0.55      0.55      0.55     15000\n",
            "weighted avg       0.55      0.55      0.55     15000\n",
            "\n"
          ]
        }
      ]
    },
    {
      "cell_type": "code",
      "source": [
        "#7. Confusion Matrix\n",
        "\n",
        "from sklearn.metrics import confusion_matrix\n",
        "import seaborn as sns\n",
        "import matplotlib.pyplot as plt\n",
        "\n",
        "def displayConfusionMatrix(y_test , y_predicted, title):\n",
        "  mat = confusion_matrix(y_test, y_predicted)\n",
        "  sns.heatmap(mat.T, square = True, annot = True, fmt = 'd', cbar = False)\n",
        "  plt.xlabel(\"True Label\")\n",
        "  plt.ylabel(\"Predicted Label\")\n",
        "  plt.title(title)"
      ],
      "metadata": {
        "id": "98yn3J74LDBl"
      },
      "execution_count": 15,
      "outputs": []
    },
    {
      "cell_type": "code",
      "source": [
        "displayConfusionMatrix(y_test=y_test , y_predicted= np.round(y_predicted) , title = \"GloVe Embedding With Simple RNN\")"
      ],
      "metadata": {
        "colab": {
          "base_uri": "https://localhost:8080/",
          "height": 295
        },
        "id": "WvaCoLKPKyEe",
        "outputId": "df2752ad-a7e3-4203-ead6-81a1cd94cbaa"
      },
      "execution_count": 16,
      "outputs": [
        {
          "output_type": "display_data",
          "data": {
            "image/png": "[encoded data removed]",
            "text/plain": [
              "<Figure size 432x288 with 1 Axes>"
            ]
          },
          "metadata": {
            "needs_background": "light"
          }
        }
      ]
    },
    {
      "cell_type": "code",
      "source": [
        "!wget -c \"https://s3.amazonaws.com/dl4j-distribution/GoogleNews-vectors-negative300.bin.gz\""
      ],
      "metadata": {
        "colab": {
          "base_uri": "https://localhost:8080/",
          "height": 0
        },
        "id": "fBiHeWsfRN0k",
        "outputId": "cb6dfff4-209b-4dfb-85a1-a778236fca87"
      },
      "execution_count": 19,
      "outputs": [
        {
          "output_type": "stream",
          "name": "stdout",
          "text": [
            "--2022-03-07 16:45:08--  https://s3.amazonaws.com/dl4j-distribution/GoogleNews-vectors-negative300.bin.gz\n",
            "Resolving s3.amazonaws.com (s3.amazonaws.com)... 52.217.226.80\n",
            "Connecting to s3.amazonaws.com (s3.amazonaws.com)|52.217.226.80|:443... connected.\n",
            "HTTP request sent, awaiting response... 200 OK\n",
            "Length: 1647046227 (1.5G) [application/x-gzip]\n",
            "Saving to: ‘GoogleNews-vectors-negative300.bin.gz’\n",
            "\n",
            "GoogleNews-vectors- 100%[===================>]   1.53G  53.1MB/s    in 28s     \n",
            "\n",
            "2022-03-07 16:45:36 (56.1 MB/s) - ‘GoogleNews-vectors-negative300.bin.gz’ saved [1647046227/1647046227]\n",
            "\n"
          ]
        }
      ]
    },
    {
      "cell_type": "code",
      "source": [
        "# gzip -d GoogleNews-vectors-negative300.bin.gz\n",
        "\n",
        "!gzip -d GoogleNews-vectors-negative300.bin.gz"
      ],
      "metadata": {
        "id": "NVejTYLPRisQ"
      },
      "execution_count": 22,
      "outputs": []
    },
    {
      "cell_type": "code",
      "source": [
        "import gensim\n",
        "word2vec = gensim.models.KeyedVectors.load_word2vec_format('./GoogleNews-vectors-negative300.bin',binary = True)"
      ],
      "metadata": {
        "id": "vY7kMtvdQI1c"
      },
      "execution_count": 25,
      "outputs": []
    },
    {
      "cell_type": "code",
      "source": [
        "num_tokens  = len(word_index)\n",
        "embedding_dim = 300 \n",
        "hit = 0\n",
        "misses = 0\n",
        "\n",
        "embedding_matrix_word2vec = np.zeros((num_tokens,embedding_dim))\n",
        "\n",
        "for word, i in word_index.items():\n",
        "  if word in word2vec:\n",
        "    embedding_vector = word2vec[word]\n",
        "    embedding_matrix_word2vec[i] = embedding_vector\n",
        "    hits+=1\n",
        "  else:\n",
        "    misses+=1\n",
        "print(\"Hit {} Misses {} \".format(hits,misses))\n",
        "\n",
        "    \n",
        "\n"
      ],
      "metadata": {
        "colab": {
          "base_uri": "https://localhost:8080/",
          "height": 0
        },
        "id": "sWbHZiziT_B5",
        "outputId": "37da6e79-5c24-4f17-b125-ebbebe158b5a"
      },
      "execution_count": 28,
      "outputs": [
        {
          "output_type": "stream",
          "name": "stdout",
          "text": [
            "Hit 158298 Misses 39510 \n"
          ]
        }
      ]
    },
    {
      "cell_type": "code",
      "source": [
        "model_simple_rnn_word2vec = Sequential()\n",
        "model_simple_rnn_word2vec.add(Embedding(num_tokens,embedding_dim,embeddings_initializer=Constant(embedding_matrix_word2vec), trainable=False))\n",
        "model_simple_rnn_word2vec.add(SimpleRNN(embedding_dim))\n",
        "model_simple_rnn_word2vec.add(Dropout(0.2))\n",
        "model_simple_rnn_word2vec.add(Dense(1, activation='sigmoid'))\n",
        "model_simple_rnn_word2vec.compile(loss='binary_crossentropy', \n",
        "                               optimizer='adam', \n",
        "                               metrics = [\"accuracy\"])"
      ],
      "metadata": {
        "id": "r9Kb1CdaVIhj"
      },
      "execution_count": 29,
      "outputs": []
    },
    {
      "cell_type": "code",
      "source": [
        "batch_size = 64\n",
        "number_of_epochs = 4\n",
        "\n",
        "X_valid, y_valid = X_train_pad[:64], y_train[:64]\n",
        "X_train2, y_train2 = X_train_pad[64:5000], y_train[64:5000]\n",
        "\n",
        "model_simple_rnn_word2vec.fit(X_train2, y_train2, validation_data=(X_valid, y_valid), epochs=number_of_epochs, batch_size=batch_size )"
      ],
      "metadata": {
        "colab": {
          "base_uri": "https://localhost:8080/",
          "height": 0
        },
        "id": "92sXfzQZVbnt",
        "outputId": "a36e4b63-add1-4578-9868-3c9df233ff27"
      },
      "execution_count": 30,
      "outputs": [
        {
          "output_type": "stream",
          "name": "stdout",
          "text": [
            "Epoch 1/4\n",
            "78/78 [==============================] - 119s 1s/step - loss: 0.7273 - accuracy: 0.5203 - val_loss: 0.7076 - val_accuracy: 0.4844\n",
            "Epoch 2/4\n",
            "78/78 [==============================] - 109s 1s/step - loss: 0.7226 - accuracy: 0.5115 - val_loss: 0.6786 - val_accuracy: 0.6406\n",
            "Epoch 3/4\n",
            "78/78 [==============================] - 108s 1s/step - loss: 0.7185 - accuracy: 0.5174 - val_loss: 0.6808 - val_accuracy: 0.6094\n",
            "Epoch 4/4\n",
            "78/78 [==============================] - 108s 1s/step - loss: 0.7022 - accuracy: 0.5488 - val_loss: 0.6960 - val_accuracy: 0.5156\n"
          ]
        },
        {
          "output_type": "execute_result",
          "data": {
            "text/plain": [
              "<keras.callbacks.History at 0x7f17a3718050>"
            ]
          },
          "metadata": {},
          "execution_count": 30
        }
      ]
    },
    {
      "cell_type": "code",
      "source": [
        "scores = model_simple_rnn_word2vec.evaluate(X_test_pad, y_test, verbose=0)\n",
        "print('Test accuracy:', scores)"
      ],
      "metadata": {
        "colab": {
          "base_uri": "https://localhost:8080/",
          "height": 0
        },
        "id": "V7Oz9qe4VuGU",
        "outputId": "8450d940-1163-42f1-bd13-6e128c7d8839"
      },
      "execution_count": 32,
      "outputs": [
        {
          "output_type": "stream",
          "name": "stdout",
          "text": [
            "Test accuracy: [0.7076905965805054, 0.5023333430290222]\n"
          ]
        }
      ]
    },
    {
      "cell_type": "code",
      "source": [
        "from sklearn import metrics\n",
        "\n",
        "y_predicted = model_simple_rnn_word2vec.predict(X_test_pad)\n",
        "print(metrics.classification_report(y_test,np.round(y_predicted)))"
      ],
      "metadata": {
        "colab": {
          "base_uri": "https://localhost:8080/",
          "height": 0
        },
        "id": "c3f_3zrvVugB",
        "outputId": "cc8ba3da-66a2-4bfa-f22a-722c5d611606"
      },
      "execution_count": 34,
      "outputs": [
        {
          "output_type": "stream",
          "name": "stdout",
          "text": [
            "              precision    recall  f1-score   support\n",
            "\n",
            "           0       0.62      0.06      0.10      7627\n",
            "           1       0.50      0.96      0.66      7373\n",
            "\n",
            "    accuracy                           0.50     15000\n",
            "   macro avg       0.56      0.51      0.38     15000\n",
            "weighted avg       0.56      0.50      0.37     15000\n",
            "\n"
          ]
        }
      ]
    },
    {
      "cell_type": "code",
      "source": [
        "displayConfusionMatrix(y_test=y_test , y_predicted= np.round(y_predicted) , title = \"Word2Vec Embedding With Simple RNN\")"
      ],
      "metadata": {
        "colab": {
          "base_uri": "https://localhost:8080/",
          "height": 295
        },
        "id": "zo1VWWqBVu-A",
        "outputId": "68fb33ac-cef9-468e-af6d-f5239c331762"
      },
      "execution_count": 35,
      "outputs": [
        {
          "output_type": "display_data",
          "data": {
            "image/png": "[encoded data removed]",
            "text/plain": [
              "<Figure size 432x288 with 1 Axes>"
            ]
          },
          "metadata": {
            "needs_background": "light"
          }
        }
      ]
    }
  ]
}