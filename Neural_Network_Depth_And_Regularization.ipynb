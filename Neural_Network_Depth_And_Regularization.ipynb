{
  "nbformat": 4,
  "nbformat_minor": 0,
  "metadata": {
    "colab": {
      "name": "Lab_Assignment_2.ipynb",
      "provenance": [],
      "collapsed_sections": [],
      "include_colab_link": true
    },
    "kernelspec": {
      "name": "python3",
      "display_name": "Python 3"
    },
    "language_info": {
      "name": "python"
    },
    "accelerator": "GPU"
  },
  "cells": [
    {
      "cell_type": "markdown",
      "metadata": {
        "id": "view-in-github",
        "colab_type": "text"
      },
      "source": [
        "<a href=\"https://colab.research.google.com/github/SachinSharma6174/neural_network/blob/main/Neural_Network_Depth_And_Regularization.ipynb\" target=\"_parent\"><img src=\"https://colab.research.google.com/assets/colab-badge.svg\" alt=\"Open In Colab\"/></a>"
      ]
    },
    {
      "cell_type": "code",
      "execution_count": 1,
      "metadata": {
        "colab": {
          "base_uri": "https://localhost:8080/",
          "height": 35
        },
        "id": "Y9iKVLATKGLq",
        "outputId": "6318cfff-623f-4659-83c4-cc4838faedc7"
      },
      "outputs": [
        {
          "output_type": "execute_result",
          "data": {
            "application/vnd.google.colaboratory.intrinsic+json": {
              "type": "string"
            },
            "text/plain": [
              "'/device:GPU:0'"
            ]
          },
          "metadata": {},
          "execution_count": 1
        }
      ],
      "source": [
        "# Enable GPU: \"Runtime\"-->\"Change Runtime\"-->\"Hardware Accelerator\"\n",
        "#1. Check if GPU is enabled\n",
        "import tensorflow as tf\n",
        "tf.test.gpu_device_name()"
      ]
    },
    {
      "cell_type": "code",
      "source": [
        "#2. Importing imdb dataset\n",
        "from keras.datasets import cifar10\n",
        "(X_train, y_train), (X_test, y_test) = cifar10.load_data()"
      ],
      "metadata": {
        "id": "hiVeS0POMuXA",
        "colab": {
          "base_uri": "https://localhost:8080/"
        },
        "outputId": "10cdbc54-ac84-4d53-ad17-deb820c324a6"
      },
      "execution_count": 6,
      "outputs": [
        {
          "output_type": "stream",
          "name": "stdout",
          "text": [
            "Downloading data from https://www.cs.toronto.edu/~kriz/cifar-10-python.tar.gz\n",
            "170500096/170498071 [==============================] - 3s 0us/step\n",
            "170508288/170498071 [==============================] - 3s 0us/step\n"
          ]
        }
      ]
    },
    {
      "cell_type": "code",
      "source": [
        "#3. Checking image shape\n",
        "X_train[0].shape"
      ],
      "metadata": {
        "colab": {
          "base_uri": "https://localhost:8080/"
        },
        "id": "rsaBtX-xM7oX",
        "outputId": "b6392926-2459-4561-c529-3f6215b27a4d"
      },
      "execution_count": 8,
      "outputs": [
        {
          "output_type": "execute_result",
          "data": {
            "text/plain": [
              "(32, 32, 3)"
            ]
          },
          "metadata": {},
          "execution_count": 8
        }
      ]
    },
    {
      "cell_type": "code",
      "source": [
        "#4. Data pre-processing\n",
        "\n",
        "# reshape data to fit the model, -1 will figure out 3rd dimension automatically\n",
        "X_train = X_train.reshape(X_train.shape[0], 32, 32, -1)\n",
        "X_test = X_test.reshape(X_test.shape[0], 32, 32, -1)\n",
        "\n",
        "# changing our target column to one hot encoding\n",
        "\n",
        "from tensorflow.keras.utils import to_categorical\n",
        "\n",
        "y_train = to_categorical(y_train)\n",
        "y_test = to_categorical(y_test)\n",
        "\n",
        "# Inspect what the one-hot encoding looks like for the first value\n",
        "y_train[0]"
      ],
      "metadata": {
        "colab": {
          "base_uri": "https://localhost:8080/"
        },
        "id": "5VR0sWVVNBV9",
        "outputId": "07c8fbdb-4f0c-4aa3-df95-c3c257b196bc"
      },
      "execution_count": 10,
      "outputs": [
        {
          "output_type": "execute_result",
          "data": {
            "text/plain": [
              "array([0., 0., 0., 0., 0., 0., 1., 0., 0., 0.], dtype=float32)"
            ]
          },
          "metadata": {},
          "execution_count": 10
        }
      ]
    },
    {
      "cell_type": "code",
      "source": [
        "# 5. Create the model with CNN layers\n",
        "# More information: https://keras.io/api/layers/convolution_layers/convolution2d/\n",
        "\n",
        "from tensorflow.python.keras import Sequential\n",
        "from tensorflow.python.keras.layers import Dense, Conv2D, Flatten, MaxPooling2D\n",
        "\n",
        "model = Sequential()\n",
        "\n",
        "# add a conv layer with \"same\" zero padding\n",
        "model.add(Conv2D(64, kernel_size = 3, activation = 'relu', padding = \"SAME\", input_shape = (28, 28, 1)))\n",
        "\n",
        "# Add a pooling layer\n",
        "model.add(MaxPooling2D(pool_size= (2,2)))\n",
        "\n",
        "# Add a second conv layer with a stride of 2x2\n",
        "model.add(Conv2D(32, kernel_size = 3, activation = \"relu\", padding = \"SAME\", strides = (2,2)))\n",
        "\n",
        "# Add a pooling layer\n",
        "model.add(MaxPooling2D(pool_size = (2,2)))\n",
        "\n",
        "# Flatten the input\n",
        "model.add(Flatten())\n",
        "\n",
        "# Regular FC layer with output size 10 (for the 10 digits)\n",
        "model.add(Dense(10, activation = \"softmax\"))\n",
        "\n",
        "# Print the summary of the model to view the shape and number of parameters\n",
        "model.summary()"
      ],
      "metadata": {
        "colab": {
          "base_uri": "https://localhost:8080/"
        },
        "id": "t5Jw2BM3PG0r",
        "outputId": "b42bcaaa-ed3b-4271-8332-3c4b7da19991"
      },
      "execution_count": null,
      "outputs": [
        {
          "output_type": "stream",
          "name": "stdout",
          "text": [
            "Model: \"sequential_8\"\n",
            "_________________________________________________________________\n",
            "Layer (type)                 Output Shape              Param #   \n",
            "=================================================================\n",
            "conv2d_12 (Conv2D)           (None, 28, 28, 64)        640       \n",
            "_________________________________________________________________\n",
            "max_pooling2d_8 (MaxPooling2 (None, 14, 14, 64)        0         \n",
            "_________________________________________________________________\n",
            "conv2d_13 (Conv2D)           (None, 7, 7, 32)          18464     \n",
            "_________________________________________________________________\n",
            "max_pooling2d_9 (MaxPooling2 (None, 3, 3, 32)          0         \n",
            "_________________________________________________________________\n",
            "flatten_1 (Flatten)          (None, 288)               0         \n",
            "_________________________________________________________________\n",
            "dense_1 (Dense)              (None, 10)                2890      \n",
            "=================================================================\n",
            "Total params: 21,994\n",
            "Trainable params: 21,994\n",
            "Non-trainable params: 0\n",
            "_________________________________________________________________\n"
          ]
        }
      ]
    },
    {
      "cell_type": "code",
      "source": [
        "# 6. Specify the optimizer\n",
        "model.compile(optimizer = 'SGD', loss = 'categorical_crossentropy', metrics = ['accuracy'])"
      ],
      "metadata": {
        "id": "5BNLZWvCRmb8"
      },
      "execution_count": null,
      "outputs": []
    },
    {
      "cell_type": "code",
      "source": [
        "#7. Time how fast the model train\n",
        "\n",
        "import time\n",
        "\n",
        "start = time.time()\n",
        "\n",
        "# Train using a minibatch stochastic gradient descence\n",
        "history = model.fit(X_train, y_train, batch_size = 64, epochs = 2, verbose = 1)\n",
        "\n",
        "end = time.time()\n",
        "\n",
        "num_mins = (end-start)/60\n",
        "print(\"Total training time: \"  + str(num_mins) + \" minutes.\")"
      ],
      "metadata": {
        "colab": {
          "base_uri": "https://localhost:8080/"
        },
        "id": "TvztV8bNR0oX",
        "outputId": "1917b7e4-029c-462b-e55a-ea3a8199a2f8"
      },
      "execution_count": null,
      "outputs": [
        {
          "output_type": "stream",
          "name": "stdout",
          "text": [
            "Epoch 1/2\n",
            "938/938 [==============================] - 9s 9ms/step - loss: 0.1360 - accuracy: 0.9574\n",
            "Epoch 2/2\n",
            "938/938 [==============================] - 9s 9ms/step - loss: 0.1212 - accuracy: 0.9626\n",
            "Total training time: 0.3438182274500529minutes.\n"
          ]
        }
      ]
    },
    {
      "cell_type": "code",
      "source": [
        "#8. Evaluate the model \n",
        "\n",
        "score = model.evaluate(X_test, y_test, verbose = 0)\n",
        "print(\"Test loss: %.4f\" % score[0])\n",
        "print(\"Test accuracy: %.2f\" % (score[1] * 100.0))"
      ],
      "metadata": {
        "colab": {
          "base_uri": "https://localhost:8080/"
        },
        "id": "_OcqvDm-SrgJ",
        "outputId": "1a5ac957-0f98-4ea2-9872-7de0dab641e2"
      },
      "execution_count": null,
      "outputs": [
        {
          "output_type": "stream",
          "name": "stdout",
          "text": [
            "Test loss: 0.1032\n",
            "Test accuracy: 96.65\n"
          ]
        }
      ]
    },
    {
      "cell_type": "code",
      "source": [
        "#9. K-fold cross validation\n",
        "from sklearn.model_selection import KFold\n",
        "n_folds = 5\n",
        "scores = []\n",
        "histories = []\n",
        "\n",
        "# prepare cross validation\n",
        "kfold = KFold(n_folds, shuffle = True, random_state = 1)\n",
        "\n",
        "# enumerate splits\n",
        "for train_i, test_i in kfold.split(X_train):\n",
        "    #select the rows for train and test\n",
        "    trainX, trainY, testX, testY = X_train[train_i], y_train[train_i], X_train[test_i], y_train[test_i]\n",
        "    #fit model with the new train subset\n",
        "    history = model.fit(trainX, trainY, epochs = 5, batch_size = 32, validation_data= (testX, testY))\n",
        "    #evaluate the model with the new test subset\n",
        "    loss, acc = model.evaluate(testX, testY, verbose =0)\n",
        "    print(\"%.2f\" % (acc * 100.0))\n",
        "    scores.append(acc)\n",
        "    histories.append(history)\n",
        "\n",
        "    "
      ],
      "metadata": {
        "colab": {
          "base_uri": "https://localhost:8080/"
        },
        "id": "9jtn6vayTCDt",
        "outputId": "79641af5-0cba-4002-85b8-6f75c539ea30"
      },
      "execution_count": null,
      "outputs": [
        {
          "output_type": "stream",
          "name": "stdout",
          "text": [
            "Epoch 1/5\n",
            "1500/1500 [==============================] - 15s 10ms/step - loss: 0.1472 - accuracy: 0.9547 - val_loss: 0.1282 - val_accuracy: 0.9615\n",
            "Epoch 2/5\n",
            "1500/1500 [==============================] - 12s 8ms/step - loss: 0.1301 - accuracy: 0.9605 - val_loss: 0.1378 - val_accuracy: 0.9611\n",
            "Epoch 3/5\n",
            "1500/1500 [==============================] - 14s 9ms/step - loss: 0.1226 - accuracy: 0.9621 - val_loss: 0.1549 - val_accuracy: 0.9542\n",
            "Epoch 4/5\n",
            "1500/1500 [==============================] - 13s 9ms/step - loss: 0.1177 - accuracy: 0.9636 - val_loss: 0.1400 - val_accuracy: 0.9578\n",
            "Epoch 5/5\n",
            "1500/1500 [==============================] - 14s 9ms/step - loss: 0.1022 - accuracy: 0.9694 - val_loss: 0.2208 - val_accuracy: 0.9367\n",
            "93.67\n",
            "Epoch 1/5\n",
            "1500/1500 [==============================] - 13s 9ms/step - loss: 0.1068 - accuracy: 0.9673 - val_loss: 0.0978 - val_accuracy: 0.9712\n",
            "Epoch 2/5\n",
            "1500/1500 [==============================] - 13s 9ms/step - loss: 0.1002 - accuracy: 0.9692 - val_loss: 0.1046 - val_accuracy: 0.9659\n",
            "Epoch 3/5\n",
            "1500/1500 [==============================] - 12s 8ms/step - loss: 0.0951 - accuracy: 0.9709 - val_loss: 0.0946 - val_accuracy: 0.9722\n",
            "Epoch 4/5\n",
            "1500/1500 [==============================] - 13s 9ms/step - loss: 0.0953 - accuracy: 0.9715 - val_loss: 0.1090 - val_accuracy: 0.9678\n",
            "Epoch 5/5\n",
            "1500/1500 [==============================] - 14s 9ms/step - loss: 0.0893 - accuracy: 0.9733 - val_loss: 0.1154 - val_accuracy: 0.9662\n",
            "96.62\n",
            "Epoch 1/5\n",
            "1500/1500 [==============================] - 13s 9ms/step - loss: 0.0896 - accuracy: 0.9735 - val_loss: 0.0922 - val_accuracy: 0.9713\n",
            "Epoch 2/5\n",
            "1500/1500 [==============================] - 12s 8ms/step - loss: 0.0853 - accuracy: 0.9737 - val_loss: 0.0736 - val_accuracy: 0.9772\n",
            "Epoch 3/5\n",
            "1500/1500 [==============================] - 14s 9ms/step - loss: 0.0822 - accuracy: 0.9749 - val_loss: 0.0881 - val_accuracy: 0.9732\n",
            "Epoch 4/5\n",
            "1500/1500 [==============================] - 13s 9ms/step - loss: 0.0827 - accuracy: 0.9739 - val_loss: 0.0901 - val_accuracy: 0.9752\n",
            "Epoch 5/5\n",
            "1500/1500 [==============================] - 13s 8ms/step - loss: 0.0808 - accuracy: 0.9758 - val_loss: 0.0827 - val_accuracy: 0.9737\n",
            "97.37\n",
            "Epoch 1/5\n",
            "1500/1500 [==============================] - 9s 6ms/step - loss: 0.0803 - accuracy: 0.9754 - val_loss: 0.0698 - val_accuracy: 0.9778\n",
            "Epoch 2/5\n",
            "1500/1500 [==============================] - 9s 6ms/step - loss: 0.0774 - accuracy: 0.9769 - val_loss: 0.0792 - val_accuracy: 0.9743\n",
            "Epoch 3/5\n",
            "1500/1500 [==============================] - 10s 6ms/step - loss: 0.0740 - accuracy: 0.9767 - val_loss: 0.0612 - val_accuracy: 0.9797\n",
            "Epoch 4/5\n",
            "1500/1500 [==============================] - 9s 6ms/step - loss: 0.0742 - accuracy: 0.9764 - val_loss: 0.0713 - val_accuracy: 0.9782\n",
            "Epoch 5/5\n",
            "1500/1500 [==============================] - 10s 7ms/step - loss: 0.0750 - accuracy: 0.9765 - val_loss: 0.0731 - val_accuracy: 0.9770\n",
            "97.70\n",
            "Epoch 1/5\n",
            "1500/1500 [==============================] - 10s 6ms/step - loss: 0.0741 - accuracy: 0.9775 - val_loss: 0.0739 - val_accuracy: 0.9778\n",
            "Epoch 2/5\n",
            "1500/1500 [==============================] - 10s 7ms/step - loss: 0.0718 - accuracy: 0.9772 - val_loss: 0.0893 - val_accuracy: 0.9728\n",
            "Epoch 3/5\n",
            "1500/1500 [==============================] - 9s 6ms/step - loss: 0.0673 - accuracy: 0.9793 - val_loss: 0.0688 - val_accuracy: 0.9796\n",
            "Epoch 4/5\n",
            "1500/1500 [==============================] - 10s 6ms/step - loss: 0.0677 - accuracy: 0.9788 - val_loss: 0.0726 - val_accuracy: 0.9786\n",
            "Epoch 5/5\n",
            "1500/1500 [==============================] - 10s 7ms/step - loss: 0.0677 - accuracy: 0.9788 - val_loss: 0.0732 - val_accuracy: 0.9794\n",
            "97.94\n"
          ]
        }
      ]
    },
    {
      "cell_type": "code",
      "source": [
        "#10. Plot loss function\n",
        "\n",
        "from matplotlib import pyplot as plt\n",
        "\n",
        "plt.plot(histories[4].history[\"loss\"], color = \"blue\", label = \"train\")\n",
        "plt.plot(histories[4].history[\"val_loss\"], color = \"red\", label = \"test\")\n",
        "\n",
        "plt.title(\"K-fold validation plot\")\n",
        "plt.ylabel(\"Cross entropy loss\")\n",
        "plt.xlabel(\"Num of epochs\")\n",
        "plt.show()"
      ],
      "metadata": {
        "colab": {
          "base_uri": "https://localhost:8080/",
          "height": 295
        },
        "id": "exKfAd46WCjl",
        "outputId": "83779fb0-0b13-4073-f2ea-5a75bf6aa333"
      },
      "execution_count": null,
      "outputs": [
        {
          "output_type": "display_data",
          "data": {
            "image/png": "[encoded data removed]",
            "text/plain": [
              "<Figure size 432x288 with 1 Axes>"
            ]
          },
          "metadata": {
            "needs_background": "light"
          }
        }
      ]
    },
    {
      "cell_type": "code",
      "source": [
        "#11. Plot accuracy\n",
        "plt.plot(histories[4].history[\"accuracy\"], color = \"blue\", label = \"train\")\n",
        "plt.plot(histories[4].history[\"val_accuracy\"], color = \"red\", label = \"test\")\n",
        "\n",
        "plt.ylabel(\"Accuracy\")\n",
        "plt.xlabel(\"Num of epochs\")\n",
        "plt.show()"
      ],
      "metadata": {
        "colab": {
          "base_uri": "https://localhost:8080/",
          "height": 279
        },
        "id": "9vZJSHslYUz-",
        "outputId": "1c7a99f0-8a35-431f-d8fe-07900f28f37c"
      },
      "execution_count": null,
      "outputs": [
        {
          "output_type": "display_data",
          "data": {
            "image/png": "[encoded data removed]",
            "text/plain": [
              "<Figure size 432x288 with 1 Axes>"
            ]
          },
          "metadata": {
            "needs_background": "light"
          }
        }
      ]
    }
  ]
}