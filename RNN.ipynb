{
  "nbformat": 4,
  "nbformat_minor": 0,
  "metadata": {
    "colab": {
      "name": "lab_assignment_3.ipynb",
      "provenance": [],
      "authorship_tag": "ABX9TyP5Lej+SOnYuzXuH4ZJyTIA",
      "include_colab_link": true
    },
    "kernelspec": {
      "name": "python3",
      "display_name": "Python 3"
    },
    "language_info": {
      "name": "python"
    },
    "accelerator": "GPU"
  },
  "cells": [
    {
      "cell_type": "markdown",
      "metadata": {
        "id": "view-in-github",
        "colab_type": "text"
      },
      "source": [
        "<a href=\"https://colab.research.google.com/github/SachinSharma6174/neural_network/blob/main/RNN.ipynb\" target=\"_parent\"><img src=\"https://colab.research.google.com/assets/colab-badge.svg\" alt=\"Open In Colab\"/></a>"
      ]
    },
    {
      "cell_type": "code",
      "execution_count": 36,
      "metadata": {
        "id": "9Hht2haMYjq4",
        "colab": {
          "base_uri": "https://localhost:8080/"
        },
        "outputId": "a84376b2-029a-4bef-b5a9-ec1999a126ce"
      },
      "outputs": [
        {
          "output_type": "stream",
          "name": "stdout",
          "text": [
            " training samples, 35000\n",
            " test samples 15000 \n",
            " y train samples 35000 \n",
            " y test samples 15000 \n"
          ]
        }
      ],
      "source": [
        "from scipy.sparse.construct import random\n",
        "from numpy.core.fromnumeric import size\n",
        "import numpy\n",
        "import tensorflow as tf\n",
        "import numpy as np\n",
        "from keras.datasets import imdb\n",
        "from sklearn.model_selection import train_test_split\n",
        "\n",
        "## 1. Load sample dataset\n",
        "# path_to_file = tf.keras.utils.get_file(\"nietzsche.txt\", \n",
        "#                   origin=\"https://s3.amazonaws.com/text-datasets/nietzsche.txt\")\n",
        "\n",
        "# vocabulary_size = 5000\n",
        "# vocabulary_size = 4000\n",
        "vocab_volume = 4000\n",
        "\n",
        "(X_train, y_train),  (X_test, y_test) = imdb.load_data(num_words = vocab_volume)\n",
        "#  70-30 split\n",
        "train_size = 0.7\n",
        "\n",
        "x = np.concatenate((X_train, X_test))\n",
        "y = np.concatenate((y_train, y_test))\n",
        "\n",
        "x_train, x_test, y_train, y_test  = train_test_split(x,y,train_size = train_size, random_state = 5999)\n",
        "\n",
        "print(' training samples, {}'.format(len(x_train) ) )\n",
        "\n",
        "print(' test samples {} '.format(len(x_test)))\n",
        "print(' y train samples {} '.format(len(y_train)))\n",
        "print(' y test samples {} '.format(len(y_test)))\n"
      ]
    },
    {
      "cell_type": "code",
      "source": [
        "#7. Confusion Matrix\n",
        "\n",
        "from sklearn.metrics import confusion_matrix\n",
        "import seaborn as sns\n",
        "import matplotlib.pyplot as plt\n",
        "\n",
        "def displayConfusionMatrix(y_test , y_predicted, title):\n",
        "  mat = confusion_matrix(y_test, y_predicted)\n",
        "  sns.heatmap(mat.T, square = True, annot = True, fmt = 'd', cbar = False)\n",
        "  plt.xlabel(\"True Label\")\n",
        "  plt.ylabel(\"Predicted Label\")\n",
        "  plt.title(title)"
      ],
      "metadata": {
        "id": "R6QVuLIYzruM"
      },
      "execution_count": 91,
      "outputs": []
    },
    {
      "cell_type": "code",
      "source": [
        "import keras\n",
        "\n",
        "\n",
        "# Reference KERAS documentation\n",
        "\n",
        "# Retrieve the training sequences.\n",
        "(x_train, _), _ = keras.datasets.imdb.load_data()\n",
        "# Retrieve the word index file mapping words to indices\n",
        "word_index = keras.datasets.imdb.get_word_index()\n",
        "# Reverse the word index to obtain a dict mapping indices to words\n",
        "inverted_word_index = dict((i, word) for (word, i) in word_index.items())\n",
        "# Decode the first sequence in the dataset\n",
        "decoded_sequence = \" \".join(inverted_word_index[i] for i in x_train[0])\n"
      ],
      "metadata": {
        "colab": {
          "base_uri": "https://localhost:8080/"
        },
        "id": "eQsgM43g3K3x",
        "outputId": "890a10c9-a1c5-4d06-a83f-1317daf02e38"
      },
      "execution_count": 7,
      "outputs": [
        {
          "output_type": "stream",
          "name": "stdout",
          "text": [
            "Downloading data from https://storage.googleapis.com/tensorflow/tf-keras-datasets/imdb_word_index.json\n",
            "1646592/1641221 [==============================] - 0s 0us/step\n",
            "1654784/1641221 [==============================] - 0s 0us/step\n"
          ]
        }
      ]
    },
    {
      "cell_type": "code",
      "source": [
        "import keras.preprocessing \n",
        "from keras.preprocessing import sequence\n",
        "max_review_words = 650\n",
        "X_test_pad = sequence.pad_sequences(x_test, maxlen = max_review_words)\n",
        "X_train_pad = sequence.pad_sequences(x_train, maxlen = max_review_words)\n",
        "\n"
      ],
      "metadata": {
        "id": "wnOtbfhb3gxH"
      },
      "execution_count": 38,
      "outputs": []
    },
    {
      "cell_type": "code",
      "source": [
        "print(' training samples, {}'.format(len(X_train_pad) ) )\n",
        "print(' test samples {} '.format(len(X_test_pad)))\n",
        "print(' y train samples {} '.format(len(y_train)))\n",
        "print(' y test samples {} '.format(len(y_test)))\n"
      ],
      "metadata": {
        "colab": {
          "base_uri": "https://localhost:8080/"
        },
        "id": "8BxFXIm1JOur",
        "outputId": "7dc67766-7fea-401b-b080-25d11a55f4d4"
      },
      "execution_count": 39,
      "outputs": [
        {
          "output_type": "stream",
          "name": "stdout",
          "text": [
            " training samples, 35000\n",
            " test samples 15000 \n",
            " y train samples 35000 \n",
            " y test samples 15000 \n"
          ]
        }
      ]
    },
    {
      "cell_type": "code",
      "source": [
        "from keras.layers.recurrent_v2 import GRU\n",
        "from keras.layers.recurrent import SimpleRNN\n",
        "\n",
        "from keras import Sequential\n",
        "from keras.layers import Embedding, LSTM, Dense, Dropout\n",
        "\n",
        "embedding_size=32\n",
        "\n",
        "model_LSTM=Sequential()\n",
        "# Embedding needs to be added for part 2\n",
        "model_LSTM.add(Embedding(vocab_volume, embedding_size, input_length=max_review_words))\n",
        "#  Dimensionality of the output space  -  2\n",
        "## LSTM\n",
        "model_LSTM.add(LSTM(100))\n",
        "model_LSTM.add(Dropout(0.2))\n",
        "model_LSTM.add(Dense(1, activation='sigmoid'))\n",
        "model_LSTM.compile(loss='binary_crossentropy', optimizer='adam')\n",
        "\n",
        "\n",
        "## SIMPLE RNN\n",
        "model_RNN=Sequential()\n",
        "model_RNN.add(Embedding(vocab_volume, embedding_size, input_length=max_review_words))\n",
        "model_RNN.add(SimpleRNN(100))\n",
        "model_RNN.add(Dropout(0.2))\n",
        "model_RNN.add(Dense(1, activation='sigmoid'))\n",
        "model_RNN.compile(loss='binary_crossentropy', optimizer='adam')\n",
        "\n",
        "\n",
        "## GRU\n",
        "model_GRU=Sequential()\n",
        "model_GRU.add(Embedding(vocab_volume, embedding_size, input_length=max_review_words))\n",
        "model_GRU.add(GRU(100))\n",
        "model_GRU.add(Dropout(0.2))\n",
        "model_GRU.add(Dense(1, activation='sigmoid'))\n",
        "model_GRU.compile(loss='binary_crossentropy', optimizer='adam')\n"
      ],
      "metadata": {
        "id": "d2qeuk9I3LNS"
      },
      "execution_count": 74,
      "outputs": []
    },
    {
      "cell_type": "markdown",
      "source": [
        "## LSTM MODEL FIT"
      ],
      "metadata": {
        "id": "yTLDWLbOVq9b"
      }
    },
    {
      "cell_type": "code",
      "source": [
        "batch_size = 64\n",
        "number_of_epochs = 4\n",
        "\n",
        "X_valid, y_valid = X_train_pad[:64], y_train[:64]\n",
        "X_train2, y_train2 = X_train_pad[64:5000], y_train[64:5000]\n",
        "\n",
        "\n",
        "model_LSTM.fit(X_train2, y_train2, validation_data=(X_valid, y_valid), epochs=number_of_epochs, batch_size=batch_size )"
      ],
      "metadata": {
        "colab": {
          "base_uri": "https://localhost:8080/"
        },
        "id": "luvL810X38He",
        "outputId": "158dfc92-6bcf-41db-fd5d-27b226663bff"
      },
      "execution_count": 82,
      "outputs": [
        {
          "output_type": "stream",
          "name": "stdout",
          "text": [
            "Epoch 1/4\n",
            "78/78 [==============================] - 11s 106ms/step - loss: 0.6695 - val_loss: 0.5508\n",
            "Epoch 2/4\n",
            "78/78 [==============================] - 8s 97ms/step - loss: 0.4311 - val_loss: 0.5274\n",
            "Epoch 3/4\n",
            "78/78 [==============================] - 8s 97ms/step - loss: 0.2813 - val_loss: 0.5173\n",
            "Epoch 4/4\n",
            "78/78 [==============================] - 7s 96ms/step - loss: 0.2070 - val_loss: 0.5384\n"
          ]
        },
        {
          "output_type": "execute_result",
          "data": {
            "text/plain": [
              "<keras.callbacks.History at 0x7ff8b36fcad0>"
            ]
          },
          "metadata": {},
          "execution_count": 82
        }
      ]
    },
    {
      "cell_type": "code",
      "source": [
        "model_LSTM.save('saved_model/model-v2') "
      ],
      "metadata": {
        "colab": {
          "base_uri": "https://localhost:8080/"
        },
        "id": "bnPWv1fkTy_m",
        "outputId": "63df85d1-90a1-4a0e-b701-fb7533029333"
      },
      "execution_count": 83,
      "outputs": [
        {
          "output_type": "stream",
          "name": "stderr",
          "text": [
            "WARNING:absl:Found untraced functions such as lstm_cell_13_layer_call_fn, lstm_cell_13_layer_call_and_return_conditional_losses while saving (showing 2 of 2). These functions will not be directly callable after loading.\n"
          ]
        },
        {
          "output_type": "stream",
          "name": "stdout",
          "text": [
            "INFO:tensorflow:Assets written to: saved_model/model-v2/assets\n"
          ]
        },
        {
          "output_type": "stream",
          "name": "stderr",
          "text": [
            "INFO:tensorflow:Assets written to: saved_model/model-v2/assets\n",
            "WARNING:absl:<keras.layers.recurrent.LSTMCell object at 0x7ff8b4b13510> has the same name 'LSTMCell' as a built-in Keras object. Consider renaming <class 'keras.layers.recurrent.LSTMCell'> to avoid naming conflicts when loading with `tf.keras.models.load_model`. If renaming is not possible, pass the object in the `custom_objects` parameter of the load function.\n"
          ]
        }
      ]
    },
    {
      "cell_type": "code",
      "source": [
        "scores = model_LSTM.evaluate(X_test_pad, y_test, verbose=0)\n",
        "print('Test accuracy:', scores)"
      ],
      "metadata": {
        "colab": {
          "base_uri": "https://localhost:8080/"
        },
        "id": "-nL3tghk38lA",
        "outputId": "f61a32a3-bc4c-426c-bc4c-c1ef4c89d3f8"
      },
      "execution_count": 84,
      "outputs": [
        {
          "output_type": "stream",
          "name": "stdout",
          "text": [
            "Test accuracy: 0.4129481911659241\n"
          ]
        }
      ]
    },
    {
      "cell_type": "code",
      "source": [
        "from sklearn import metrics\n",
        "\n",
        "y_predicted = model_LSTM.predict(X_test_pad)\n",
        "print(metrics.classification_report(y_test,np.round(y_predicted)))"
      ],
      "metadata": {
        "colab": {
          "base_uri": "https://localhost:8080/"
        },
        "id": "jNyk3jYJkyjI",
        "outputId": "631edec8-5a5a-43c1-ae63-30cf90252926"
      },
      "execution_count": 86,
      "outputs": [
        {
          "output_type": "stream",
          "name": "stdout",
          "text": [
            "              precision    recall  f1-score   support\n",
            "\n",
            "           0       0.84      0.81      0.83      7627\n",
            "           1       0.81      0.84      0.83      7373\n",
            "\n",
            "    accuracy                           0.83     15000\n",
            "   macro avg       0.83      0.83      0.83     15000\n",
            "weighted avg       0.83      0.83      0.83     15000\n",
            "\n"
          ]
        }
      ]
    },
    {
      "cell_type": "code",
      "source": [
        "displayConfusionMatrix(y_test=y_test , y_predicted= np.round(y_predicted) , title = \"LSTM Confusion Matrix\")"
      ],
      "metadata": {
        "colab": {
          "base_uri": "https://localhost:8080/",
          "height": 295
        },
        "id": "gxSyic4Rz1vU",
        "outputId": "c43f6ec2-f6f8-473d-e57a-a904a51e93cb"
      },
      "execution_count": 93,
      "outputs": [
        {
          "output_type": "display_data",
          "data": {
            "image/png": "[encoded data removed]",
            "text/plain": [
              "<Figure size 432x288 with 1 Axes>"
            ]
          },
          "metadata": {
            "needs_background": "light"
          }
        }
      ]
    },
    {
      "cell_type": "code",
      "source": [
        "# set(y_predicted.reshape(15000))\n",
        "from collections import Counter\n",
        "set(y_test.reshape(15000)), Counter(y_test)"
      ],
      "metadata": {
        "colab": {
          "base_uri": "https://localhost:8080/"
        },
        "id": "JDywICy-mr3G",
        "outputId": "b407c9b0-2866-403b-d310-76c8c8843ac8"
      },
      "execution_count": 69,
      "outputs": [
        {
          "output_type": "execute_result",
          "data": {
            "text/plain": [
              "({0, 1}, Counter({0: 7627, 1: 7373}))"
            ]
          },
          "metadata": {},
          "execution_count": 69
        }
      ]
    },
    {
      "cell_type": "markdown",
      "source": [
        "# SIMPLE RNN MODEL FIT\n",
        "\n"
      ],
      "metadata": {
        "id": "FRLUbHQIUl3b"
      }
    },
    {
      "cell_type": "code",
      "source": [
        "batch_size = 64\n",
        "number_of_epochs = 4\n",
        "\n",
        "model_RNN.fit(X_train2,\n",
        "               y_train2,\n",
        "               validation_data=(X_valid, y_valid),\n",
        "               epochs=number_of_epochs,\n",
        "               batch_size=batch_size )\n"
      ],
      "metadata": {
        "colab": {
          "base_uri": "https://localhost:8080/"
        },
        "id": "Wa4pgnr6Ub2C",
        "outputId": "4f2c0508-2348-4118-caf7-a4d12a9d247c"
      },
      "execution_count": 87,
      "outputs": [
        {
          "output_type": "stream",
          "name": "stdout",
          "text": [
            "Epoch 1/4\n",
            "78/78 [==============================] - 81s 1s/step - loss: 0.7111 - val_loss: 0.6951\n",
            "Epoch 2/4\n",
            "78/78 [==============================] - 82s 1s/step - loss: 0.7037 - val_loss: 0.6811\n",
            "Epoch 3/4\n",
            "78/78 [==============================] - 95s 1s/step - loss: 0.6895 - val_loss: 0.6661\n",
            "Epoch 4/4\n",
            "78/78 [==============================] - 86s 1s/step - loss: 0.6524 - val_loss: 0.6329\n"
          ]
        },
        {
          "output_type": "execute_result",
          "data": {
            "text/plain": [
              "<keras.callbacks.History at 0x7ff8b8805bd0>"
            ]
          },
          "metadata": {},
          "execution_count": 87
        }
      ]
    },
    {
      "cell_type": "code",
      "source": [
        "model_RNN.save('saved_model/model-rnn')"
      ],
      "metadata": {
        "colab": {
          "base_uri": "https://localhost:8080/"
        },
        "id": "BWb7OH9vVMdf",
        "outputId": "43ef88f5-d0a7-4716-f834-b1b9313a581a"
      },
      "execution_count": 58,
      "outputs": [
        {
          "output_type": "stream",
          "name": "stdout",
          "text": [
            "INFO:tensorflow:Assets written to: saved_model/model-rnn/assets\n"
          ]
        },
        {
          "output_type": "stream",
          "name": "stderr",
          "text": [
            "INFO:tensorflow:Assets written to: saved_model/model-rnn/assets\n"
          ]
        }
      ]
    },
    {
      "cell_type": "code",
      "source": [
        "scores = model_RNN.evaluate(X_test_pad, y_test, verbose=1)\n",
        "print('Test accuracy:', scores)"
      ],
      "metadata": {
        "colab": {
          "base_uri": "https://localhost:8080/"
        },
        "id": "_D20NiCaVVpT",
        "outputId": "adbcb07c-37e6-4e92-8cd1-e518aa72a3c7"
      },
      "execution_count": 59,
      "outputs": [
        {
          "output_type": "stream",
          "name": "stdout",
          "text": [
            "469/469 [==============================] - 32s 67ms/step - loss: 0.6197\n",
            "Test accuracy: 0.6196576356887817\n"
          ]
        }
      ]
    },
    {
      "cell_type": "code",
      "source": [
        "from sklearn import metrics\n",
        "\n",
        "y_predicted_RNN = model_RNN.predict(X_test_pad)\n",
        "print(metrics.classification_report(y_test,np.round(y_predicted)))"
      ],
      "metadata": {
        "colab": {
          "base_uri": "https://localhost:8080/"
        },
        "id": "4j4rTpJTl8O_",
        "outputId": "a83eafa3-a434-4f53-defe-84dc8cf69e04"
      },
      "execution_count": 94,
      "outputs": [
        {
          "output_type": "stream",
          "name": "stdout",
          "text": [
            "              precision    recall  f1-score   support\n",
            "\n",
            "           0       0.84      0.81      0.83      7627\n",
            "           1       0.81      0.84      0.83      7373\n",
            "\n",
            "    accuracy                           0.83     15000\n",
            "   macro avg       0.83      0.83      0.83     15000\n",
            "weighted avg       0.83      0.83      0.83     15000\n",
            "\n"
          ]
        }
      ]
    },
    {
      "cell_type": "code",
      "source": [
        "displayConfusionMatrix(y_test=y_test , y_predicted= np.round(y_predicted_RNN) , title = \"SIMPLE RNN Confusion Matrix\")"
      ],
      "metadata": {
        "colab": {
          "base_uri": "https://localhost:8080/",
          "height": 295
        },
        "id": "NOpuiACh08wA",
        "outputId": "0b1415ca-1245-4b62-f124-72e4df6b6bac"
      },
      "execution_count": 96,
      "outputs": [
        {
          "output_type": "display_data",
          "data": {
            "image/png": "[encoded data removed]",
            "text/plain": [
              "<Figure size 432x288 with 1 Axes>"
            ]
          },
          "metadata": {
            "needs_background": "light"
          }
        }
      ]
    },
    {
      "cell_type": "markdown",
      "source": [
        "## **GRU MODEL FIT**"
      ],
      "metadata": {
        "id": "FM0WOpsCUpdL"
      }
    },
    {
      "cell_type": "code",
      "source": [
        "X_valid_2, y_valid_2 = X_train_pad[:64], y_train[:64]\n",
        "X_train3, y_train3 = X_train_pad[64:5000], y_train[64:5000]\n",
        "\n",
        "\n",
        "model_GRU.fit(X_train3,\n",
        "              y_train3,\n",
        "              validation_data=(X_valid_2, y_valid_2),\n",
        "              epochs=number_of_epochs,\n",
        "              batch_size=batch_size )"
      ],
      "metadata": {
        "colab": {
          "base_uri": "https://localhost:8080/"
        },
        "id": "QpFDIpoCU5ol",
        "outputId": "a10ea15e-697a-4930-a81d-02eb7155e189"
      },
      "execution_count": 75,
      "outputs": [
        {
          "output_type": "stream",
          "name": "stdout",
          "text": [
            "Epoch 1/4\n",
            "78/78 [==============================] - 12s 105ms/step - loss: 0.6713 - val_loss: 0.6447\n",
            "Epoch 2/4\n",
            "78/78 [==============================] - 7s 95ms/step - loss: 0.5595 - val_loss: 0.5423\n",
            "Epoch 3/4\n",
            "78/78 [==============================] - 7s 95ms/step - loss: 0.3592 - val_loss: 0.5453\n",
            "Epoch 4/4\n",
            "78/78 [==============================] - 7s 96ms/step - loss: 0.2335 - val_loss: 0.6141\n"
          ]
        },
        {
          "output_type": "execute_result",
          "data": {
            "text/plain": [
              "<keras.callbacks.History at 0x7ff8aa435c50>"
            ]
          },
          "metadata": {},
          "execution_count": 75
        }
      ]
    },
    {
      "cell_type": "code",
      "source": [
        "model_GRU.save('saved_model/model-gru') "
      ],
      "metadata": {
        "colab": {
          "base_uri": "https://localhost:8080/"
        },
        "id": "AsYHjt0tVO5x",
        "outputId": "45c991ba-117e-4f3f-f8af-301a27b55846"
      },
      "execution_count": 76,
      "outputs": [
        {
          "output_type": "stream",
          "name": "stderr",
          "text": [
            "WARNING:absl:Found untraced functions such as gru_cell_12_layer_call_fn, gru_cell_12_layer_call_and_return_conditional_losses while saving (showing 2 of 2). These functions will not be directly callable after loading.\n"
          ]
        },
        {
          "output_type": "stream",
          "name": "stdout",
          "text": [
            "INFO:tensorflow:Assets written to: saved_model/model-gru/assets\n"
          ]
        },
        {
          "output_type": "stream",
          "name": "stderr",
          "text": [
            "INFO:tensorflow:Assets written to: saved_model/model-gru/assets\n",
            "WARNING:absl:<keras.layers.recurrent.GRUCell object at 0x7ff8b4c1ea50> has the same name 'GRUCell' as a built-in Keras object. Consider renaming <class 'keras.layers.recurrent.GRUCell'> to avoid naming conflicts when loading with `tf.keras.models.load_model`. If renaming is not possible, pass the object in the `custom_objects` parameter of the load function.\n"
          ]
        }
      ]
    },
    {
      "cell_type": "code",
      "source": [
        "scores = model_GRU.evaluate(X_test_pad, y_test, verbose=0)\n",
        "print('Test accuracy:', scores)"
      ],
      "metadata": {
        "colab": {
          "base_uri": "https://localhost:8080/"
        },
        "id": "0965xmIcVbNF",
        "outputId": "9eb0f95a-4c5d-4023-99e1-6eae10dfabe9"
      },
      "execution_count": 77,
      "outputs": [
        {
          "output_type": "stream",
          "name": "stdout",
          "text": [
            "Test accuracy: 0.457518607378006\n"
          ]
        }
      ]
    },
    {
      "cell_type": "code",
      "source": [
        "from sklearn import metrics\n",
        "\n",
        "y_predicted_GRU = model_RNN.predict(X_test_pad)\n",
        "print(metrics.classification_report(y_test, np.round(y_predicted_GRU)))"
      ],
      "metadata": {
        "colab": {
          "base_uri": "https://localhost:8080/"
        },
        "id": "53kATDv6tgiT",
        "outputId": "02a5d7d4-bb15-40d6-b52a-1db8eb4e0050"
      },
      "execution_count": 99,
      "outputs": [
        {
          "output_type": "stream",
          "name": "stdout",
          "text": [
            "              precision    recall  f1-score   support\n",
            "\n",
            "           0       0.59      0.68      0.63      7627\n",
            "           1       0.61      0.51      0.56      7373\n",
            "\n",
            "    accuracy                           0.60     15000\n",
            "   macro avg       0.60      0.60      0.59     15000\n",
            "weighted avg       0.60      0.60      0.59     15000\n",
            "\n"
          ]
        }
      ]
    },
    {
      "cell_type": "code",
      "source": [
        "# print(y_predicted)\n",
        "print(metrics.classification_report(y_test, np.round(y_predicted_GRU)))"
      ],
      "metadata": {
        "colab": {
          "base_uri": "https://localhost:8080/"
        },
        "id": "D7dwSIXLwMIS",
        "outputId": "dfa10d63-d304-4fbb-bf8f-9cd561af8647"
      },
      "execution_count": 100,
      "outputs": [
        {
          "output_type": "stream",
          "name": "stdout",
          "text": [
            "              precision    recall  f1-score   support\n",
            "\n",
            "           0       0.59      0.68      0.63      7627\n",
            "           1       0.61      0.51      0.56      7373\n",
            "\n",
            "    accuracy                           0.60     15000\n",
            "   macro avg       0.60      0.60      0.59     15000\n",
            "weighted avg       0.60      0.60      0.59     15000\n",
            "\n"
          ]
        }
      ]
    },
    {
      "cell_type": "code",
      "source": [
        "displayConfusionMatrix(y_test=y_test , y_predicted= np.round(y_predicted_GRU) , title = \"GRU Confusion Matrix\")"
      ],
      "metadata": {
        "colab": {
          "base_uri": "https://localhost:8080/",
          "height": 295
        },
        "id": "kUra1E7q1DRJ",
        "outputId": "ab888a0b-6878-47e5-f9ea-8d879547b144"
      },
      "execution_count": 101,
      "outputs": [
        {
          "output_type": "display_data",
          "data": {
            "image/png": "[encoded data removed]",
            "text/plain": [
              "<Figure size 432x288 with 1 Axes>"
            ]
          },
          "metadata": {
            "needs_background": "light"
          }
        }
      ]
    },
    {
      "cell_type": "markdown",
      "source": [
        "## X_TEST split - short, medium, and long inputs"
      ],
      "metadata": {
        "id": "uUSmlYyWgtIO"
      }
    },
    {
      "cell_type": "code",
      "source": [
        "x_train, x_test, y_train, y_test  = train_test_split(x,y,train_size = train_size, random_state = 5999)\n",
        "\n",
        "\n",
        "print(' training samples, {}'.format(len(x_train) ) )\n",
        "print(' test samples {} '.format(len(x_test)))\n",
        "print(' y train samples {} '.format(len(y_train)))\n",
        "print(' y test samples {} '.format(len(y_test)))\n"
      ],
      "metadata": {
        "id": "r8rngp9beGpC"
      },
      "execution_count": null,
      "outputs": []
    },
    {
      "cell_type": "code",
      "source": [
        "x_test_sorted = sorted()"
      ],
      "metadata": {
        "id": "9SZUil30eGhC"
      },
      "execution_count": null,
      "outputs": []
    },
    {
      "cell_type": "code",
      "source": [
        ""
      ],
      "metadata": {
        "id": "kgz8-DGaeGZs"
      },
      "execution_count": null,
      "outputs": []
    },
    {
      "cell_type": "code",
      "source": [
        ""
      ],
      "metadata": {
        "id": "kK28B0G4eGNJ"
      },
      "execution_count": null,
      "outputs": []
    },
    {
      "cell_type": "code",
      "source": [
        ""
      ],
      "metadata": {
        "id": "ie3nDrw0y3Kp"
      },
      "execution_count": null,
      "outputs": []
    },
    {
      "cell_type": "markdown",
      "source": [
        "## Embeddings in the pretrained model (GLOVE) "
      ],
      "metadata": {
        "id": "t4E9ebE6y7US"
      }
    },
    {
      "cell_type": "code",
      "source": [
        "import os\n",
        "from keras.layers import Embedding\n",
        "from keras.initializers import Constant\n",
        "\n",
        "path_to_glove_file = \"glove.6B.100d.txt\"\n",
        "\n",
        "embeddings_index = {}\n",
        "with open(path_to_glove_file) as f:\n",
        "    for line in f:\n",
        "        word, coefs = line.split(maxsplit=1)\n",
        "        coefs = np.fromstring(coefs, \"f\", sep=\" \")\n",
        "        embeddings_index[word] = coefs\n",
        "\n",
        "print(\"Found %s word vectors.\" % len(embeddings_index))\n",
        "\n",
        "num_tokens = len(word_index)\n",
        "embedding_dim = 100\n",
        "hits = 0\n",
        "misses = 0\n",
        "\n",
        "# Prepare embedding matrix for our word list\n",
        "embedding_matrix = np.zeros((num_tokens, embedding_dim))\n",
        "for word, i in word_index.items():\n",
        "    embedding_vector = embeddings_index.get(word)\n",
        "    if embedding_vector is not None:\n",
        "        # Words not found in embedding index will be all-zeros.\n",
        "        # This includes the representation for \"padding\" and \"OOV\"\n",
        "        embedding_matrix[i] = embedding_vector\n",
        "        hits += 1\n",
        "    else:\n",
        "        misses += 1\n",
        "print(\"Converted %d words (%d misses)\" % (hits, misses))\n",
        "\n",
        "model_simple_rnn = Sequential()\n",
        "model_simple_rnn.add(Embedding(num_tokens,\n",
        "                               embedding_dim,\n",
        "                               embeddings_initializer=Constant(embedding_matrix), \n",
        "                               trainable=False)\n",
        "                    )\n",
        "model_simple_rnn.add(SimpleRNN(embedding_dim))\n",
        "model_simple_rnn.add(Dropout(0.2))\n",
        "model_simple_rnn.add(Dense(1, activation='sigmoid'))\n",
        "model_simple_rnn.compile(loss='binary_crossentropy', optimizer='adam', metrics = [\"accuracy\"])"
      ],
      "metadata": {
        "id": "OQ7-XAEsy3i1"
      },
      "execution_count": null,
      "outputs": []
    }
  ]
}