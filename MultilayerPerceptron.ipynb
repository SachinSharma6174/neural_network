{
  "nbformat": 4,
  "nbformat_minor": 0,
  "metadata": {
    "colab": {
      "name": "lab-assignment-1.ipynb",
      "provenance": [],
      "collapsed_sections": [],
      "authorship_tag": "ABX9TyPJgqCWgowBniG1FySx0pXM",
      "include_colab_link": true
    },
    "kernelspec": {
      "name": "python3",
      "display_name": "Python 3"
    },
    "language_info": {
      "name": "python"
    }
  },
  "cells": [
    {
      "cell_type": "markdown",
      "metadata": {
        "id": "view-in-github",
        "colab_type": "text"
      },
      "source": [
        "<a href=\"https://colab.research.google.com/github/SachinSharma6174/neural_network/blob/main/MultilayerPerceptron.ipynb\" target=\"_parent\"><img src=\"https://colab.research.google.com/assets/colab-badge.svg\" alt=\"Open In Colab\"/></a>"
      ]
    },
    {
      "cell_type": "code",
      "execution_count": 31,
      "metadata": {
        "colab": {
          "base_uri": "https://localhost:8080/"
        },
        "id": "iXqsYr3YPlpN",
        "outputId": "6bc76e25-f9fb-4689-eb58-89777451a7f6"
      },
      "outputs": [
        {
          "output_type": "stream",
          "name": "stdout",
          "text": [
            "[[ 0.  0.  5. ...  0.  0.  0.]\n",
            " [ 0.  0.  0. ... 10.  0.  0.]\n",
            " [ 0.  0.  0. ... 16.  9.  0.]\n",
            " ...\n",
            " [ 0.  0.  1. ...  6.  0.  0.]\n",
            " [ 0.  0.  2. ... 12.  0.  0.]\n",
            " [ 0.  0. 10. ... 12.  1.  0.]]\n"
          ]
        }
      ],
      "source": [
        "#1. Load datasets\n",
        "from sklearn.datasets import load_digits\n",
        "# from sklearn.datasets import load_breast_cancer\n",
        "# cancer = load_digits()\n",
        "digit_data = load_digits()\n",
        "X = digit_data.data\n",
        "y = digit_data.target\n",
        "# print(y)\n",
        "# print(y)\n",
        "print(X)\n",
        "# data = datasets.load_covt\n",
        "# print(datasets.fetch_covtype)\n",
        "\n"
      ]
    },
    {
      "cell_type": "code",
      "source": [
        "import numpy as np\n",
        "import matplotlib.pyplot as plt\n",
        "# print(np.unique(X))\n",
        "digits = load_digits()\n",
        "print(np.unique(X))\n",
        "print(np.unique(y))\n",
        "# print(digits.DESCR)\n",
        "# print(digits.data.shape)\n",
        "plt.gray()\n",
        "plt.matshow(digits.images[1])\n",
        "# plt.imshow(digits.images[3], cmap = plt.cm.gray_r, interpolation=\"nearest\")\n",
        "plt.show()"
      ],
      "metadata": {
        "colab": {
          "base_uri": "https://localhost:8080/",
          "height": 327
        },
        "id": "GyfCQKa9fpzd",
        "outputId": "a29384bf-97be-452f-cc73-8f68dbb7719d"
      },
      "execution_count": 32,
      "outputs": [
        {
          "output_type": "stream",
          "name": "stdout",
          "text": [
            "[ 0.  1.  2.  3.  4.  5.  6.  7.  8.  9. 10. 11. 12. 13. 14. 15. 16.]\n",
            "[0 1 2 3 4 5 6 7 8 9]\n"
          ]
        },
        {
          "output_type": "display_data",
          "data": {
            "text/plain": [
              "<Figure size 432x288 with 0 Axes>"
            ]
          },
          "metadata": {}
        },
        {
          "output_type": "display_data",
          "data": {
            "image/png": "[encoded data removed]",
            "text/plain": [
              "<Figure size 288x288 with 1 Axes>"
            ]
          },
          "metadata": {
            "needs_background": "light"
          }
        }
      ]
    },
    {
      "cell_type": "code",
      "source": [
        "# Creating train and test split 80-20 split of train and test set\n",
        "from sklearn.model_selection import train_test_split\n",
        "X_train, X_test, y_train, y_test = train_test_split(X,y,test_size=0.2,random_state=1)\n",
        "print(X_train.shape)\n",
        "print(X_test.shape)   "
      ],
      "metadata": {
        "colab": {
          "base_uri": "https://localhost:8080/"
        },
        "id": "p8bHVNdCr33E",
        "outputId": "f5843a0b-3344-49ea-c586-d0ff880ad292"
      },
      "execution_count": 33,
      "outputs": [
        {
          "output_type": "stream",
          "name": "stdout",
          "text": [
            "(1437, 64)\n",
            "(360, 64)\n"
          ]
        }
      ]
    },
    {
      "cell_type": "code",
      "source": [
        "# Standardizing the value\n",
        "from sklearn.preprocessing import StandardScaler\n",
        "standard_scaler = StandardScaler()\n",
        "standard_scaler.fit(X_train)\n",
        "X_train_std = standard_scaler.transform(X_train)\n",
        "X_test_std =standard_scaler.transform(X_test)"
      ],
      "metadata": {
        "id": "Qfj2q32JsgSB"
      },
      "execution_count": 34,
      "outputs": []
    },
    {
      "cell_type": "code",
      "source": [
        "# Training Neural Network using Multi-layer Perceptron classifier\n",
        "from sklearn.neural_network import MLPClassifier\n",
        "\n",
        "perceptron = MLPClassifier(max_iter = 20, random_state = 1, verbose = True)\n",
        "perceptron.fit(X_train_std, y_train)\n",
        "\n",
        "print(\"activation func {}\".format(perceptron.activation))\n",
        "print(\"Predicted Classes {}\".format(perceptron.classes_))\n",
        "print(\"Training set loss Loss {}\".format(perceptron.loss_))\n",
        "print(perceptron.coefs_[0].shape)\n",
        "print(perceptron.coefs_[1].shape)"
      ],
      "metadata": {
        "colab": {
          "base_uri": "https://localhost:8080/"
        },
        "id": "JAzaNaU_tiD2",
        "outputId": "df46e594-2cf1-421f-8fd5-1cc84ad3f352"
      },
      "execution_count": 12,
      "outputs": [
        {
          "output_type": "stream",
          "name": "stdout",
          "text": [
            "Iteration 1, loss = 2.36973571\n",
            "Iteration 2, loss = 1.86998516\n",
            "Iteration 3, loss = 1.48691322\n",
            "Iteration 4, loss = 1.19590293\n",
            "Iteration 5, loss = 0.97273199\n",
            "Iteration 6, loss = 0.80674542\n",
            "Iteration 7, loss = 0.67616138\n",
            "Iteration 8, loss = 0.57547481\n",
            "Iteration 9, loss = 0.49574764\n",
            "Iteration 10, loss = 0.43309775\n",
            "Iteration 11, loss = 0.38139401\n",
            "Iteration 12, loss = 0.34105240\n",
            "Iteration 13, loss = 0.30753728\n",
            "Iteration 14, loss = 0.27954816\n",
            "Iteration 15, loss = 0.25590595\n",
            "Iteration 16, loss = 0.23554836\n",
            "Iteration 17, loss = 0.21754442\n",
            "Iteration 18, loss = 0.20214219\n",
            "Iteration 19, loss = 0.18768295\n",
            "Iteration 20, loss = 0.17532251\n",
            "activation func relu\n",
            "Predicted Classes [0 1 2 3 4 5 6 7 8 9]\n",
            "Training set loss Loss 0.17532251478885544\n",
            "(64, 100)\n",
            "(100, 10)\n"
          ]
        },
        {
          "output_type": "stream",
          "name": "stderr",
          "text": [
            "/usr/local/lib/python3.7/dist-packages/sklearn/neural_network/_multilayer_perceptron.py:696: ConvergenceWarning: Stochastic Optimizer: Maximum iterations (20) reached and the optimization hasn't converged yet.\n",
            "  ConvergenceWarning,\n"
          ]
        }
      ]
    },
    {
      "cell_type": "code",
      "source": [
        "#  Generic Class for Confusion Metrics plotting and Output Accuracy and activations.\n",
        "from sklearn.metrics import confusion_matrix\n",
        "import seaborn as sns\n",
        "import matplotlib.pyplot as plt\n",
        "from sklearn import metrics\n",
        "from typing import cast\n",
        "\n",
        "class ConfusionMatrixAndAccuracyMetrics():\n",
        "  def __init__(self) -> None:\n",
        "      pass\n",
        "  def confusionMatrixAndAccuracyPlot(self ,y_test, y_predicted, activation,score):\n",
        "    print(metrics.classification_report(y_test,y_predicted))\n",
        "    print(\"Activation func {}\".format(perceptron2.activation))\n",
        "    print(\"Accuracy on Test data {}\".format(score))\n",
        "\n",
        "    mat = confusion_matrix(y_test, y_predicted)\n",
        "    sns.heatmap(mat.T, square = True, annot = True , fmt = 'd', cbar = False)\n",
        "    plt.xlabel('True label')\n",
        "    plt.ylabel(' Predicted label ')\n"
      ],
      "metadata": {
        "id": "GraKdxXg1IYm"
      },
      "execution_count": 24,
      "outputs": []
    },
    {
      "cell_type": "code",
      "source": [
        "# Round 2 MLP, introducing hidden nodes with combinations of activation function, number of neuron, and hidden layers\n",
        "\n",
        "neuron_layer_1 = 100\n",
        "\n",
        "neuron_layer_2 = 200\n",
        "\n",
        "\n",
        "# single hidden layer + tanh\n",
        "perceptron1 = MLPClassifier(activation='tanh', hidden_layer_sizes=[neuron_layer_1,])\n",
        "perceptron2 = MLPClassifier(activation='tanh', hidden_layer_sizes=[neuron_layer_2,])\n",
        "\n",
        "# double hidden layer + tanh\n",
        "perceptron3 = MLPClassifier(activation='tanh', hidden_layer_sizes=[neuron_layer_1,neuron_layer_2])\n",
        "perceptron4 = MLPClassifier(activation='tanh', hidden_layer_sizes=[neuron_layer_2,neuron_layer_1])\n",
        "\n",
        "\n",
        "# single hidden layer + relu\n",
        "perceptron5 = MLPClassifier(activation='relu', hidden_layer_sizes=[neuron_layer_2,])\n",
        "perceptron6 = MLPClassifier(activation='relu', hidden_layer_sizes=[neuron_layer_1,])\n",
        "\n",
        "# double hidden layer + relu\n",
        "perceptron7 = MLPClassifier(activation='relu', hidden_layer_sizes=[neuron_layer_1,neuron_layer_2])\n",
        "perceptron8 = MLPClassifier(activation='relu', hidden_layer_sizes=[neuron_layer_2,neuron_layer_1])\n",
        "\n",
        "\n",
        "\n"
      ],
      "metadata": {
        "id": "hz1YDtCGwAAo"
      },
      "execution_count": null,
      "outputs": []
    },
    {
      "cell_type": "code",
      "source": [
        "# perceptron1 Accuracy and confusion Matrix\n",
        "class PerceptronPrediction():\n",
        "  def __init__(self) -> None:\n",
        "      pass\n",
        "  def predict(self, perceptron):\n",
        "    perceptron.fit(X_train_std, y_train)\n",
        "    score = perceptron.score(X_test_std,y_test)\n",
        "    y_predicted = perceptron.predict(X_test_std)\n",
        "    cfm = ConfusionMatrixAndAccuracyMetrics()\n",
        "    cfm.confusionMatrixAndAccuracyPlot(y_test, y_predicted, perceptron.activation, score)\n",
        "\n",
        "\n",
        "\n",
        "# perceptron1.fit(X_train_std, y_train)\n",
        "# score = perceptron1.score(X_test_std,y_test)\n",
        "# y_predicted = perceptron1.predict(X_test_std)\n",
        "# cfm = ConfusionMatrixAndAccuracyMetrics()\n",
        "# cfm.confusionMatrixAndAccuracyPlot(y_test, y_predicted,perceptron1.activation, score)\n"
      ],
      "metadata": {
        "id": "YRz83ngPT5Dm"
      },
      "execution_count": 27,
      "outputs": []
    },
    {
      "cell_type": "code",
      "source": [
        "predictor = PerceptronPrediction()\n",
        "predictor.predict(perceptron1)"
      ],
      "metadata": {
        "colab": {
          "base_uri": "https://localhost:8080/",
          "height": 609
        },
        "id": "a4uyynvQZxWE",
        "outputId": "fdd7c602-30d2-43c3-83a7-dd6c74ab8ad2"
      },
      "execution_count": 28,
      "outputs": [
        {
          "output_type": "stream",
          "name": "stdout",
          "text": [
            "              precision    recall  f1-score   support\n",
            "\n",
            "           0       1.00      1.00      1.00        43\n",
            "           1       0.97      1.00      0.99        35\n",
            "           2       1.00      0.97      0.99        36\n",
            "           3       0.93      1.00      0.96        41\n",
            "           4       1.00      0.97      0.99        38\n",
            "           5       0.93      0.93      0.93        30\n",
            "           6       1.00      1.00      1.00        37\n",
            "           7       0.97      0.97      0.97        37\n",
            "           8       1.00      0.93      0.96        29\n",
            "           9       0.97      0.97      0.97        34\n",
            "\n",
            "    accuracy                           0.98       360\n",
            "   macro avg       0.98      0.98      0.98       360\n",
            "weighted avg       0.98      0.98      0.98       360\n",
            "\n",
            "Activation func tanh\n",
            "Accuracy on Test data 0.9777777777777777\n"
          ]
        },
        {
          "output_type": "display_data",
          "data": {
            "image/png": "[encoded data removed]",
            "text/plain": [
              "<Figure size 432x288 with 1 Axes>"
            ]
          },
          "metadata": {
            "needs_background": "light"
          }
        }
      ]
    },
    {
      "cell_type": "code",
      "source": [
        "predictor.predict(perceptron2)"
      ],
      "metadata": {
        "colab": {
          "base_uri": "https://localhost:8080/",
          "height": 609
        },
        "id": "wKwoLc1daBo1",
        "outputId": "a7fcac36-46ee-428e-b14a-02191961518f"
      },
      "execution_count": 29,
      "outputs": [
        {
          "output_type": "stream",
          "name": "stdout",
          "text": [
            "              precision    recall  f1-score   support\n",
            "\n",
            "           0       1.00      1.00      1.00        43\n",
            "           1       0.97      1.00      0.99        35\n",
            "           2       1.00      0.97      0.99        36\n",
            "           3       0.95      1.00      0.98        41\n",
            "           4       0.97      1.00      0.99        38\n",
            "           5       0.91      0.97      0.94        30\n",
            "           6       1.00      1.00      1.00        37\n",
            "           7       1.00      0.95      0.97        37\n",
            "           8       1.00      0.90      0.95        29\n",
            "           9       0.97      0.97      0.97        34\n",
            "\n",
            "    accuracy                           0.98       360\n",
            "   macro avg       0.98      0.98      0.98       360\n",
            "weighted avg       0.98      0.98      0.98       360\n",
            "\n",
            "Activation func tanh\n",
            "Accuracy on Test data 0.9777777777777777\n"
          ]
        },
        {
          "output_type": "display_data",
          "data": {
            "image/png": "[encoded data removed]",
            "text/plain": [
              "<Figure size 432x288 with 1 Axes>"
            ]
          },
          "metadata": {
            "needs_background": "light"
          }
        }
      ]
    },
    {
      "cell_type": "code",
      "source": [
        "predictor.predict(perceptron3)"
      ],
      "metadata": {
        "colab": {
          "base_uri": "https://localhost:8080/",
          "height": 609
        },
        "id": "T1w-RPscaGGf",
        "outputId": "0733cfd6-19b0-4002-83fb-2a051159d48d"
      },
      "execution_count": 30,
      "outputs": [
        {
          "output_type": "stream",
          "name": "stdout",
          "text": [
            "              precision    recall  f1-score   support\n",
            "\n",
            "           0       1.00      0.98      0.99        43\n",
            "           1       0.97      1.00      0.99        35\n",
            "           2       0.97      1.00      0.99        36\n",
            "           3       1.00      1.00      1.00        41\n",
            "           4       0.97      1.00      0.99        38\n",
            "           5       0.91      0.97      0.94        30\n",
            "           6       1.00      1.00      1.00        37\n",
            "           7       1.00      0.97      0.99        37\n",
            "           8       1.00      0.93      0.96        29\n",
            "           9       1.00      0.97      0.99        34\n",
            "\n",
            "    accuracy                           0.98       360\n",
            "   macro avg       0.98      0.98      0.98       360\n",
            "weighted avg       0.98      0.98      0.98       360\n",
            "\n",
            "Activation func tanh\n",
            "Accuracy on Test data 0.9833333333333333\n"
          ]
        },
        {
          "output_type": "display_data",
          "data": {
            "image/png": "[encoded data removed]",
            "text/plain": [
              "<Figure size 432x288 with 1 Axes>"
            ]
          },
          "metadata": {
            "needs_background": "light"
          }
        }
      ]
    },
    {
      "cell_type": "code",
      "source": [
        "predictor.predict(perceptron4)"
      ],
      "metadata": {
        "colab": {
          "base_uri": "https://localhost:8080/",
          "height": 609
        },
        "id": "H9MrHBg_Cdzo",
        "outputId": "5b4ad24e-50a1-4c08-e6c0-1ad0a15a3e29"
      },
      "execution_count": 35,
      "outputs": [
        {
          "output_type": "stream",
          "name": "stdout",
          "text": [
            "              precision    recall  f1-score   support\n",
            "\n",
            "           0       1.00      1.00      1.00        43\n",
            "           1       1.00      1.00      1.00        35\n",
            "           2       1.00      1.00      1.00        36\n",
            "           3       0.95      1.00      0.98        41\n",
            "           4       0.97      1.00      0.99        38\n",
            "           5       0.94      0.97      0.95        30\n",
            "           6       1.00      1.00      1.00        37\n",
            "           7       1.00      0.95      0.97        37\n",
            "           8       1.00      0.93      0.96        29\n",
            "           9       0.97      0.97      0.97        34\n",
            "\n",
            "    accuracy                           0.98       360\n",
            "   macro avg       0.98      0.98      0.98       360\n",
            "weighted avg       0.98      0.98      0.98       360\n",
            "\n",
            "Activation func tanh\n",
            "Accuracy on Test data 0.9833333333333333\n"
          ]
        },
        {
          "output_type": "display_data",
          "data": {
            "image/png": "[encoded data removed]",
            "text/plain": [
              "<Figure size 432x288 with 1 Axes>"
            ]
          },
          "metadata": {
            "needs_background": "light"
          }
        }
      ]
    },
    {
      "cell_type": "code",
      "source": [
        "predictor.predict(perceptron5)"
      ],
      "metadata": {
        "colab": {
          "base_uri": "https://localhost:8080/",
          "height": 609
        },
        "id": "IT0pEM4oCgex",
        "outputId": "33ec127b-1abb-4de4-95d5-6c9248e8b33f"
      },
      "execution_count": 36,
      "outputs": [
        {
          "output_type": "stream",
          "name": "stdout",
          "text": [
            "              precision    recall  f1-score   support\n",
            "\n",
            "           0       1.00      0.98      0.99        43\n",
            "           1       1.00      1.00      1.00        35\n",
            "           2       0.97      0.97      0.97        36\n",
            "           3       0.98      1.00      0.99        41\n",
            "           4       0.97      0.97      0.97        38\n",
            "           5       0.97      1.00      0.98        30\n",
            "           6       1.00      1.00      1.00        37\n",
            "           7       1.00      0.97      0.99        37\n",
            "           8       1.00      0.97      0.98        29\n",
            "           9       0.94      0.97      0.96        34\n",
            "\n",
            "    accuracy                           0.98       360\n",
            "   macro avg       0.98      0.98      0.98       360\n",
            "weighted avg       0.98      0.98      0.98       360\n",
            "\n",
            "Activation func tanh\n",
            "Accuracy on Test data 0.9833333333333333\n"
          ]
        },
        {
          "output_type": "display_data",
          "data": {
            "image/png": "[encoded data removed]",
            "text/plain": [
              "<Figure size 432x288 with 1 Axes>"
            ]
          },
          "metadata": {
            "needs_background": "light"
          }
        }
      ]
    },
    {
      "cell_type": "code",
      "source": [
        "predictor.predict(perceptron6)"
      ],
      "metadata": {
        "colab": {
          "base_uri": "https://localhost:8080/",
          "height": 609
        },
        "id": "xC2EUH82CiWX",
        "outputId": "59b026aa-dac6-4c3b-f0b9-faf7db5724f8"
      },
      "execution_count": 37,
      "outputs": [
        {
          "output_type": "stream",
          "name": "stdout",
          "text": [
            "              precision    recall  f1-score   support\n",
            "\n",
            "           0       1.00      1.00      1.00        43\n",
            "           1       1.00      1.00      1.00        35\n",
            "           2       1.00      1.00      1.00        36\n",
            "           3       0.98      1.00      0.99        41\n",
            "           4       1.00      0.97      0.99        38\n",
            "           5       0.97      1.00      0.98        30\n",
            "           6       1.00      1.00      1.00        37\n",
            "           7       0.97      0.97      0.97        37\n",
            "           8       1.00      0.97      0.98        29\n",
            "           9       0.97      0.97      0.97        34\n",
            "\n",
            "    accuracy                           0.99       360\n",
            "   macro avg       0.99      0.99      0.99       360\n",
            "weighted avg       0.99      0.99      0.99       360\n",
            "\n",
            "Activation func tanh\n",
            "Accuracy on Test data 0.9888888888888889\n"
          ]
        },
        {
          "output_type": "display_data",
          "data": {
            "image/png": "[encoded data removed]",
            "text/plain": [
              "<Figure size 432x288 with 1 Axes>"
            ]
          },
          "metadata": {
            "needs_background": "light"
          }
        }
      ]
    },
    {
      "cell_type": "code",
      "source": [
        "predictor.predict(perceptron7)"
      ],
      "metadata": {
        "colab": {
          "base_uri": "https://localhost:8080/",
          "height": 609
        },
        "id": "8epTOEN1Ck2z",
        "outputId": "7b416022-7802-4d6d-ddd5-fd1428be41a8"
      },
      "execution_count": 38,
      "outputs": [
        {
          "output_type": "stream",
          "name": "stdout",
          "text": [
            "              precision    recall  f1-score   support\n",
            "\n",
            "           0       1.00      0.98      0.99        43\n",
            "           1       1.00      1.00      1.00        35\n",
            "           2       1.00      1.00      1.00        36\n",
            "           3       1.00      1.00      1.00        41\n",
            "           4       0.97      1.00      0.99        38\n",
            "           5       0.94      0.97      0.95        30\n",
            "           6       1.00      1.00      1.00        37\n",
            "           7       1.00      0.97      0.99        37\n",
            "           8       1.00      0.97      0.98        29\n",
            "           9       0.94      0.97      0.96        34\n",
            "\n",
            "    accuracy                           0.99       360\n",
            "   macro avg       0.99      0.99      0.99       360\n",
            "weighted avg       0.99      0.99      0.99       360\n",
            "\n",
            "Activation func tanh\n",
            "Accuracy on Test data 0.9861111111111112\n"
          ]
        },
        {
          "output_type": "display_data",
          "data": {
            "image/png": "[encoded data removed]",
            "text/plain": [
              "<Figure size 432x288 with 1 Axes>"
            ]
          },
          "metadata": {
            "needs_background": "light"
          }
        }
      ]
    },
    {
      "cell_type": "code",
      "source": [
        "predictor.predict(perceptron8)"
      ],
      "metadata": {
        "colab": {
          "base_uri": "https://localhost:8080/",
          "height": 609
        },
        "id": "okGhGMSgCmg7",
        "outputId": "7c87f597-2076-4c2b-c6e1-e6578e5fb6de"
      },
      "execution_count": 39,
      "outputs": [
        {
          "output_type": "stream",
          "name": "stdout",
          "text": [
            "              precision    recall  f1-score   support\n",
            "\n",
            "           0       1.00      1.00      1.00        43\n",
            "           1       1.00      1.00      1.00        35\n",
            "           2       1.00      0.97      0.99        36\n",
            "           3       0.98      1.00      0.99        41\n",
            "           4       0.97      1.00      0.99        38\n",
            "           5       0.97      1.00      0.98        30\n",
            "           6       1.00      1.00      1.00        37\n",
            "           7       0.97      0.92      0.94        37\n",
            "           8       1.00      1.00      1.00        29\n",
            "           9       0.97      0.97      0.97        34\n",
            "\n",
            "    accuracy                           0.99       360\n",
            "   macro avg       0.99      0.99      0.99       360\n",
            "weighted avg       0.99      0.99      0.99       360\n",
            "\n",
            "Activation func tanh\n",
            "Accuracy on Test data 0.9861111111111112\n"
          ]
        },
        {
          "output_type": "display_data",
          "data": {
            "image/png": "[encoded data removed]",
            "text/plain": [
              "<Figure size 432x288 with 1 Axes>"
            ]
          },
          "metadata": {
            "needs_background": "light"
          }
        }
      ]
    },
    {
      "cell_type": "code",
      "source": [
        "# Plotting Accuracy vs Epoch\n",
        "from pandas.core.common import random_state\n",
        "\n",
        "%matplotlib inline\n",
        "start_num_epoch = 10\n",
        "finish_num_epoch = 100\n",
        "increments = 10\n",
        "pred_score = []\n",
        "num_epochs = []\n",
        "\n",
        "for epoch_count in range(start_num_epoch,finish_num_epoch,increments):\n",
        "  mlp = MLPClassifier(random_state=20, max_iter=epoch_count)\n",
        "  mlp.fit(X_train_std,y_train)\n",
        "  score = mlp.score(X_test_std, y_test)\n",
        "  pred_score.append(score)\n",
        "  num_epochs.append(epoch_count)\n"
      ],
      "metadata": {
        "id": "U4c1SCx32lyF"
      },
      "execution_count": null,
      "outputs": []
    },
    {
      "cell_type": "code",
      "source": [
        "plt.plot(num_epochs, pred_score, \"r-+\", linewidth=2)\n",
        "plt.xlabel('Number of Epochs')\n",
        "plt.ylabel(' Accuracy Score ')\n",
        "plt.title(' Impact of training epochs in Accuracy ')\n",
        "plt.show()"
      ],
      "metadata": {
        "colab": {
          "base_uri": "https://localhost:8080/",
          "height": 295
        },
        "id": "80a1Zw-j5tfp",
        "outputId": "3161f399-bf93-4fc7-87c5-ab72cccbe77d"
      },
      "execution_count": 33,
      "outputs": [
        {
          "output_type": "display_data",
          "data": {
            "image/png": "[encoded data removed]",
            "text/plain": [
              "<Figure size 432x288 with 1 Axes>"
            ]
          },
          "metadata": {
            "needs_background": "light"
          }
        }
      ]
    }
  ]
}