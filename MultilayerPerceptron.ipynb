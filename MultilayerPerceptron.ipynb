{
  "nbformat": 4,
  "nbformat_minor": 0,
  "metadata": {
    "colab": {
      "name": "lab-assignment-1.ipynb",
      "provenance": [],
      "collapsed_sections": [],
      "authorship_tag": "ABX9TyNBy/m4X1I6F4psCWlRs5Uk",
      "include_colab_link": true
    },
    "kernelspec": {
      "name": "python3",
      "display_name": "Python 3"
    },
    "language_info": {
      "name": "python"
    }
  },
  "cells": [
    {
      "cell_type": "markdown",
      "metadata": {
        "id": "view-in-github",
        "colab_type": "text"
      },
      "source": [
        "<a href=\"https://colab.research.google.com/github/SachinSharma6174/neural_network/blob/main/MultilayerPerceptron.ipynb\" target=\"_parent\"><img src=\"https://colab.research.google.com/assets/colab-badge.svg\" alt=\"Open In Colab\"/></a>"
      ]
    },
    {
      "cell_type": "code",
      "execution_count": 3,
      "metadata": {
        "colab": {
          "base_uri": "https://localhost:8080/"
        },
        "id": "iXqsYr3YPlpN",
        "outputId": "457b85a8-c26a-4e63-baa0-7147654826a4"
      },
      "outputs": [
        {
          "output_type": "stream",
          "name": "stdout",
          "text": [
            "[[ 0.  0.  5. ...  0.  0.  0.]\n",
            " [ 0.  0.  0. ... 10.  0.  0.]\n",
            " [ 0.  0.  0. ... 16.  9.  0.]\n",
            " ...\n",
            " [ 0.  0.  1. ...  6.  0.  0.]\n",
            " [ 0.  0.  2. ... 12.  0.  0.]\n",
            " [ 0.  0. 10. ... 12.  1.  0.]]\n"
          ]
        }
      ],
      "source": [
        "#1. Load datasets\n",
        "from sklearn.datasets import load_digits\n",
        "# from sklearn.datasets import load_breast_cancer\n",
        "# cancer = load_digits()\n",
        "digit_data = load_digits()\n",
        "X = digit_data.data\n",
        "y = digit_data.target\n",
        "# print(y)\n",
        "# print(y)\n",
        "print(X)\n",
        "# data = datasets.load_covt\n",
        "# print(datasets.fetch_covtype)\n",
        "\n"
      ]
    },
    {
      "cell_type": "code",
      "source": [
        "import numpy as np\n",
        "import matplotlib.pyplot as plt\n",
        "# print(np.unique(X))\n",
        "digits = load_digits()\n",
        "print(np.unique(X))\n",
        "print(np.unique(y))\n",
        "# print(digits.DESCR)\n",
        "# print(digits.data.shape)\n",
        "plt.gray()\n",
        "# plt.matshow(digits.images[1])\n",
        "plt.imshow(digits.images[3], cmap = plt.cm.gray_r, interpolation=\"nearest\")\n",
        "plt.show()"
      ],
      "metadata": {
        "colab": {
          "base_uri": "https://localhost:8080/",
          "height": 265
        },
        "id": "GyfCQKa9fpzd",
        "outputId": "9d88a086-be5b-4bb6-c0db-bf882a091708"
      },
      "execution_count": 19,
      "outputs": [
        {
          "output_type": "display_data",
          "data": {
            "image/png": "[encoded data removed]",
            "text/plain": [
              "<Figure size 432x288 with 1 Axes>"
            ]
          },
          "metadata": {
            "needs_background": "light"
          }
        }
      ]
    },
    {
      "cell_type": "code",
      "source": [
        "# Creating train and test split\n",
        "from sklearn.model_selection import train_test_split\n",
        "X_train, X_test, y_train, y_test = train_test_split(X,y,random_state=1)"
      ],
      "metadata": {
        "id": "p8bHVNdCr33E"
      },
      "execution_count": 20,
      "outputs": []
    },
    {
      "cell_type": "code",
      "source": [
        "# Standardizing the value\n",
        "from sklearn.preprocessing import StandardScaler\n",
        "standard_scaler = StandardScaler()\n",
        "standard_scaler.fit(X_train)\n",
        "X_train_std = standard_scaler.transform(X_train)\n",
        "X_test_std =standard_scaler.transform(X_test)"
      ],
      "metadata": {
        "id": "Qfj2q32JsgSB"
      },
      "execution_count": 23,
      "outputs": []
    },
    {
      "cell_type": "code",
      "source": [
        "# Training Neural Network using Multi-layer Perceptron classifier\n",
        "from sklearn.neural_network import MLPClassifier\n",
        "\n",
        "perceptron = MLPClassifier(max_iter = 20, random_state = 1, verbose = True)\n",
        "perceptron.fit(X_train_std, y_train)\n",
        "\n",
        "print(\"activation func {}\".format(perceptron.activation))\n",
        "print(\"Predicted Classes {}\".format(perceptron.classes_))\n",
        "print(\"Training set loss Loss {}\".format(perceptron.loss_))"
      ],
      "metadata": {
        "id": "JAzaNaU_tiD2"
      },
      "execution_count": null,
      "outputs": []
    },
    {
      "cell_type": "code",
      "source": [
        "# Second MLP\n"
      ],
      "metadata": {
        "id": "hz1YDtCGwAAo"
      },
      "execution_count": null,
      "outputs": []
    }
  ]
}