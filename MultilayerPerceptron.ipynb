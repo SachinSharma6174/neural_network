{
  "nbformat": 4,
  "nbformat_minor": 0,
  "metadata": {
    "colab": {
      "name": "lab-assignment-1.ipynb",
      "provenance": [],
      "collapsed_sections": [],
      "authorship_tag": "ABX9TyOFx40TGzkEC9ngSGeI8hW5",
      "include_colab_link": true
    },
    "kernelspec": {
      "name": "python3",
      "display_name": "Python 3"
    },
    "language_info": {
      "name": "python"
    }
  },
  "cells": [
    {
      "cell_type": "markdown",
      "metadata": {
        "id": "view-in-github",
        "colab_type": "text"
      },
      "source": [
        "<a href=\"https://colab.research.google.com/github/SachinSharma6174/neural_network/blob/main/MultilayerPerceptron.ipynb\" target=\"_parent\"><img src=\"https://colab.research.google.com/assets/colab-badge.svg\" alt=\"Open In Colab\"/></a>"
      ]
    },
    {
      "cell_type": "code",
      "execution_count": 3,
      "metadata": {
        "colab": {
          "base_uri": "https://localhost:8080/"
        },
        "id": "iXqsYr3YPlpN",
        "outputId": "457b85a8-c26a-4e63-baa0-7147654826a4"
      },
      "outputs": [
        {
          "output_type": "stream",
          "name": "stdout",
          "text": [
            "[[ 0.  0.  5. ...  0.  0.  0.]\n",
            " [ 0.  0.  0. ... 10.  0.  0.]\n",
            " [ 0.  0.  0. ... 16.  9.  0.]\n",
            " ...\n",
            " [ 0.  0.  1. ...  6.  0.  0.]\n",
            " [ 0.  0.  2. ... 12.  0.  0.]\n",
            " [ 0.  0. 10. ... 12.  1.  0.]]\n"
          ]
        }
      ],
      "source": [
        "#1. Load datasets\n",
        "from sklearn.datasets import load_digits\n",
        "# from sklearn.datasets import load_breast_cancer\n",
        "# cancer = load_digits()\n",
        "digit_data = load_digits()\n",
        "X = digit_data.data\n",
        "y = digit_data.target\n",
        "# print(y)\n",
        "# print(y)\n",
        "print(X)\n",
        "# data = datasets.load_covt\n",
        "# print(datasets.fetch_covtype)\n",
        "\n"
      ]
    },
    {
      "cell_type": "code",
      "source": [
        "import numpy as np\n",
        "import matplotlib.pyplot as plt\n",
        "# print(np.unique(X))\n",
        "digits = load_digits()\n",
        "print(np.unique(X))\n",
        "print(np.unique(y))\n",
        "# print(digits.DESCR)\n",
        "# print(digits.data.shape)\n",
        "plt.gray()\n",
        "# plt.matshow(digits.images[1])\n",
        "plt.imshow(digits.images[3], cmap = plt.cm.gray_r, interpolation=\"nearest\")\n",
        "plt.show()"
      ],
      "metadata": {
        "colab": {
          "base_uri": "https://localhost:8080/",
          "height": 265
        },
        "id": "GyfCQKa9fpzd",
        "outputId": "9d88a086-be5b-4bb6-c0db-bf882a091708"
      },
      "execution_count": 19,
      "outputs": [
        {
          "output_type": "display_data",
          "data": {
            "image/png": "[encoded data removed]",
            "text/plain": [
              "<Figure size 432x288 with 1 Axes>"
            ]
          },
          "metadata": {
            "needs_background": "light"
          }
        }
      ]
    },
    {
      "cell_type": "code",
      "source": [
        "# Creating train and test split\n",
        "from sklearn.model_selection import train_test_split\n",
        "X_train, X_test, y_train, y_test = train_test_split(X,y,random_state=1)"
      ],
      "metadata": {
        "id": "p8bHVNdCr33E"
      },
      "execution_count": 20,
      "outputs": []
    },
    {
      "cell_type": "code",
      "source": [
        "# Standardizing the value\n",
        "from sklearn.preprocessing import StandardScaler\n",
        "standard_scaler = StandardScaler()\n",
        "standard_scaler.fit(X_train)\n",
        "X_train_std = standard_scaler.transform(X_train)\n",
        "X_test_std =standard_scaler.transform(X_test)"
      ],
      "metadata": {
        "id": "Qfj2q32JsgSB"
      },
      "execution_count": 23,
      "outputs": []
    },
    {
      "cell_type": "code",
      "source": [
        "# Training Neural Network using Multi-layer Perceptron classifier\n",
        "from sklearn.neural_network import MLPClassifier\n",
        "\n",
        "perceptron = MLPClassifier(max_iter = 20, random_state = 1, verbose = True)\n",
        "perceptron.fit(X_train_std, y_train)\n",
        "\n",
        "print(\"activation func {}\".format(perceptron.activation))\n",
        "print(\"Predicted Classes {}\".format(perceptron.classes_))\n",
        "print(\"Training set loss Loss {}\".format(perceptron.loss_))"
      ],
      "metadata": {
        "id": "JAzaNaU_tiD2"
      },
      "execution_count": null,
      "outputs": []
    },
    {
      "cell_type": "code",
      "source": [
        "# Round 2 MLP, introducing hidden nodes\n",
        "n_hidden_nodes = 10\n",
        "perceptron2 = MLPClassifier(activation='tanh', hidden_layer_sizes=[n_hidden_nodes,n_hidden_nodes])\n",
        "perceptron2.fit(X_train_std, y_train)\n",
        "print(\"activation func {}\".format(perceptron2.activation))\n",
        "print(\"Accuracy on Test data {}\".format(perceptron2.score(X_test_std,y_test)))\n",
        "\n",
        "\n"
      ],
      "metadata": {
        "colab": {
          "base_uri": "https://localhost:8080/"
        },
        "id": "hz1YDtCGwAAo",
        "outputId": "d984d8f6-61bd-4356-8e05-47c12d6386cc"
      },
      "execution_count": 27,
      "outputs": [
        {
          "output_type": "stream",
          "name": "stdout",
          "text": [
            "activation func tanh\n",
            "Accuracy on Test data 0.9555555555555556\n"
          ]
        },
        {
          "output_type": "stream",
          "name": "stderr",
          "text": [
            "/usr/local/lib/python3.7/dist-packages/sklearn/neural_network/_multilayer_perceptron.py:696: ConvergenceWarning: Stochastic Optimizer: Maximum iterations (200) reached and the optimization hasn't converged yet.\n",
            "  ConvergenceWarning,\n"
          ]
        }
      ]
    },
    {
      "cell_type": "code",
      "source": [
        "from sklearn import metrics\n",
        "y_predicted = perceptron2.predict(X_test_std)\n",
        "print(metrics.classification_report(y_test,y_predicted))"
      ],
      "metadata": {
        "colab": {
          "base_uri": "https://localhost:8080/"
        },
        "id": "NwldieFv0S_x",
        "outputId": "9494daa8-763a-4d2a-e8d4-6b082a282b40"
      },
      "execution_count": 28,
      "outputs": [
        {
          "output_type": "stream",
          "name": "stdout",
          "text": [
            "              precision    recall  f1-score   support\n",
            "\n",
            "           0       1.00      0.96      0.98        53\n",
            "           1       0.98      0.95      0.96        42\n",
            "           2       0.93      0.98      0.95        41\n",
            "           3       0.91      0.94      0.92        52\n",
            "           4       0.96      1.00      0.98        47\n",
            "           5       0.95      0.92      0.94        39\n",
            "           6       0.98      1.00      0.99        43\n",
            "           7       0.98      0.96      0.97        48\n",
            "           8       0.94      0.89      0.92        37\n",
            "           9       0.94      0.94      0.94        48\n",
            "\n",
            "    accuracy                           0.96       450\n",
            "   macro avg       0.96      0.95      0.95       450\n",
            "weighted avg       0.96      0.96      0.96       450\n",
            "\n"
          ]
        }
      ]
    },
    {
      "cell_type": "code",
      "source": [
        "# Confusion Metrics \n",
        "from sklearn.metrics import confusion_matrix\n",
        "import seaborn as sns\n",
        "import matplotlib.pyplot as plt\n",
        "\n",
        "\n",
        "mat = confusion_matrix(y_test, y_predicted)\n",
        "sns.heatmap(mat.T, square = True, annot = True , fmt = 'd', cbar = False)\n",
        "plt.xlabel('True label')\n",
        "plt.ylabel(' Predicted label ')"
      ],
      "metadata": {
        "colab": {
          "base_uri": "https://localhost:8080/",
          "height": 296
        },
        "id": "GraKdxXg1IYm",
        "outputId": "1f980a57-89bb-405b-d5f0-c3f9413d2d7f"
      },
      "execution_count": 30,
      "outputs": [
        {
          "output_type": "execute_result",
          "data": {
            "text/plain": [
              "Text(91.68, 0.5, ' Predicted label ')"
            ]
          },
          "metadata": {},
          "execution_count": 30
        },
        {
          "output_type": "display_data",
          "data": {
            "image/png": "[encoded data removed]",
            "text/plain": [
              "<Figure size 432x288 with 1 Axes>"
            ]
          },
          "metadata": {
            "needs_background": "light"
          }
        }
      ]
    },
    {
      "cell_type": "code",
      "source": [
        "# Plotting Accuracy vs Epoch\n",
        "from pandas.core.common import random_state\n",
        "\n",
        "%matplotlib inline\n",
        "start_num_epoch = 10\n",
        "finish_num_epoch = 100\n",
        "increments = 10\n",
        "pred_score = []\n",
        "num_epochs = []\n",
        "\n",
        "for epoch_count in range(start_num_epoch,finish_num_epoch,increments):\n",
        "  mlp = MLPClassifier(random_state=20, max_iter=epoch_count)\n",
        "  mlp.fit(X_train_std,y_train)\n",
        "  score = mlp.score(X_test_std, y_test)\n",
        "  pred_score.append(score)\n",
        "  num_epochs.append(epoch_count)\n"
      ],
      "metadata": {
        "colab": {
          "base_uri": "https://localhost:8080/"
        },
        "id": "U4c1SCx32lyF",
        "outputId": "203f8a22-84bb-41fc-e63e-10bf3e541399"
      },
      "execution_count": 32,
      "outputs": [
        {
          "output_type": "stream",
          "name": "stderr",
          "text": [
            "/usr/local/lib/python3.7/dist-packages/sklearn/neural_network/_multilayer_perceptron.py:696: ConvergenceWarning: Stochastic Optimizer: Maximum iterations (10) reached and the optimization hasn't converged yet.\n",
            "  ConvergenceWarning,\n",
            "/usr/local/lib/python3.7/dist-packages/sklearn/neural_network/_multilayer_perceptron.py:696: ConvergenceWarning: Stochastic Optimizer: Maximum iterations (20) reached and the optimization hasn't converged yet.\n",
            "  ConvergenceWarning,\n",
            "/usr/local/lib/python3.7/dist-packages/sklearn/neural_network/_multilayer_perceptron.py:696: ConvergenceWarning: Stochastic Optimizer: Maximum iterations (30) reached and the optimization hasn't converged yet.\n",
            "  ConvergenceWarning,\n",
            "/usr/local/lib/python3.7/dist-packages/sklearn/neural_network/_multilayer_perceptron.py:696: ConvergenceWarning: Stochastic Optimizer: Maximum iterations (40) reached and the optimization hasn't converged yet.\n",
            "  ConvergenceWarning,\n",
            "/usr/local/lib/python3.7/dist-packages/sklearn/neural_network/_multilayer_perceptron.py:696: ConvergenceWarning: Stochastic Optimizer: Maximum iterations (50) reached and the optimization hasn't converged yet.\n",
            "  ConvergenceWarning,\n",
            "/usr/local/lib/python3.7/dist-packages/sklearn/neural_network/_multilayer_perceptron.py:696: ConvergenceWarning: Stochastic Optimizer: Maximum iterations (60) reached and the optimization hasn't converged yet.\n",
            "  ConvergenceWarning,\n",
            "/usr/local/lib/python3.7/dist-packages/sklearn/neural_network/_multilayer_perceptron.py:696: ConvergenceWarning: Stochastic Optimizer: Maximum iterations (70) reached and the optimization hasn't converged yet.\n",
            "  ConvergenceWarning,\n",
            "/usr/local/lib/python3.7/dist-packages/sklearn/neural_network/_multilayer_perceptron.py:696: ConvergenceWarning: Stochastic Optimizer: Maximum iterations (80) reached and the optimization hasn't converged yet.\n",
            "  ConvergenceWarning,\n",
            "/usr/local/lib/python3.7/dist-packages/sklearn/neural_network/_multilayer_perceptron.py:696: ConvergenceWarning: Stochastic Optimizer: Maximum iterations (90) reached and the optimization hasn't converged yet.\n",
            "  ConvergenceWarning,\n"
          ]
        }
      ]
    },
    {
      "cell_type": "code",
      "source": [
        "plt.plot(num_epochs, pred_score, \"r-+\", linewidth=2)\n",
        "plt.xlabel('Number of Epochs')\n",
        "plt.ylabel(' Accuracy Score ')\n",
        "plt.title(' Impact of training epochs in Accuracy ')\n",
        "plt.show()"
      ],
      "metadata": {
        "colab": {
          "base_uri": "https://localhost:8080/",
          "height": 295
        },
        "id": "80a1Zw-j5tfp",
        "outputId": "3161f399-bf93-4fc7-87c5-ab72cccbe77d"
      },
      "execution_count": 33,
      "outputs": [
        {
          "output_type": "display_data",
          "data": {
            "image/png": "[encoded data removed]",
            "text/plain": [
              "<Figure size 432x288 with 1 Axes>"
            ]
          },
          "metadata": {
            "needs_background": "light"
          }
        }
      ]
    }
  ]
}